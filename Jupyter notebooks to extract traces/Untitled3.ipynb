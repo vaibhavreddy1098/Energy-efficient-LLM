{
 "cells": [
  {
   "cell_type": "code",
   "execution_count": 1,
   "id": "cab41072-fc79-439b-9681-df7b0762bb6d",
   "metadata": {},
   "outputs": [
    {
     "data": {
      "application/vnd.jupyter.widget-view+json": {
       "model_id": "2f72f24c61bb4f48badf61a361e1030b",
       "version_major": 2,
       "version_minor": 0
      },
      "text/plain": [
       "generation_config.json:   0%|          | 0.00/124 [00:00<?, ?B/s]"
      ]
     },
     "metadata": {},
     "output_type": "display_data"
    },
    {
     "name": "stderr",
     "output_type": "stream",
     "text": [
      "C:\\Users\\vaibh\\anaconda3\\envs\\pytorch\\Lib\\site-packages\\huggingface_hub\\file_download.py:143: UserWarning: `huggingface_hub` cache-system uses symlinks by default to efficiently store duplicated files but your machine does not support them in C:\\Users\\vaibh\\.cache\\huggingface\\hub\\models--gpt2. Caching files will still work but in a degraded version that might require more space on your disk. This warning can be disabled by setting the `HF_HUB_DISABLE_SYMLINKS_WARNING` environment variable. For more details, see https://huggingface.co/docs/huggingface_hub/how-to-cache#limitations.\n",
      "To support symlinks on Windows, you either need to activate Developer Mode or to run Python as an administrator. In order to activate developer mode, see this article: https://docs.microsoft.com/en-us/windows/apps/get-started/enable-your-device-for-development\n",
      "  warnings.warn(message)\n",
      "The attention mask and the pad token id were not set. As a consequence, you may observe unexpected behavior. Please pass your input's `attention_mask` to obtain reliable results.\n",
      "Setting `pad_token_id` to `eos_token_id`:50256 for open-end generation.\n",
      "The attention mask is not set and cannot be inferred from input because pad token is same as eos token. As a consequence, you may observe unexpected behavior. Please pass your input's `attention_mask` to obtain reliable results.\n"
     ]
    },
    {
     "name": "stdout",
     "output_type": "stream",
     "text": [
      "Generated text:\n",
      "Hello, my name is John. I'm a writer, and I'm a writer. I'm a writer. I'm a writer. I'm a writer. I'm a writer. I'm a writer. I'm a writer. I'm\n"
     ]
    }
   ],
   "source": [
    "import torch\n",
    "from transformers import GPT2Tokenizer, GPT2LMHeadModel\n",
    "\n",
    "# 1. Load pre-trained model and tokenizer\n",
    "model_name = 'gpt2'\n",
    "tokenizer = GPT2Tokenizer.from_pretrained(model_name)\n",
    "model = GPT2LMHeadModel.from_pretrained(model_name)\n",
    "\n",
    "# Set the model to evaluation mode\n",
    "model.eval()\n",
    "\n",
    "# 2. Prepare input\n",
    "text = \"Hello, my name is\"\n",
    "inputs = tokenizer(text, return_tensors='pt')\n",
    "input_ids = inputs['input_ids']\n",
    "attention_mask = inputs['attention_mask']\n",
    "\n",
    "# 3. Generate text (optional, to verify the model is working)\n",
    "with torch.no_grad():\n",
    "    outputs = model.generate(input_ids, max_length=50, num_return_sequences=1)\n",
    "\n",
    "print(\"Generated text:\")\n",
    "print(tokenizer.decode(outputs[0], skip_special_tokens=True))"
   ]
  },
  {
   "cell_type": "code",
   "execution_count": 2,
   "id": "32199886-917f-436f-9406-cf32a2116355",
   "metadata": {},
   "outputs": [
    {
     "name": "stdout",
     "output_type": "stream",
     "text": [
      "Trace file 'gpt2_trace.json' has been generated.\n"
     ]
    }
   ],
   "source": [
    "import torch\n",
    "from transformers import GPT2Tokenizer, GPT2LMHeadModel\n",
    "from torch.profiler import profile, record_function, ProfilerActivity\n",
    "\n",
    "# 1. Load pre-trained model and tokenizer\n",
    "model_name = 'gpt2'\n",
    "tokenizer = GPT2Tokenizer.from_pretrained(model_name)\n",
    "model = GPT2LMHeadModel.from_pretrained(model_name)\n",
    "\n",
    "# Set the model to evaluation mode\n",
    "model.eval()\n",
    "\n",
    "# 2. Prepare input\n",
    "text = \"Hello, my name is\"\n",
    "inputs = tokenizer(text, return_tensors='pt')\n",
    "input_ids = inputs['input_ids']\n",
    "attention_mask = inputs['attention_mask']\n",
    "\n",
    "# 3. Profile the model execution\n",
    "with profile(\n",
    "    activities=[ProfilerActivity.CPU, ProfilerActivity.CUDA],\n",
    "    record_shapes=True,\n",
    "    with_stack=True,\n",
    "    profile_memory=True\n",
    ") as prof:\n",
    "    with record_function(\"model_inference\"):\n",
    "        with torch.no_grad():\n",
    "            outputs = model(input_ids=input_ids, attention_mask=attention_mask)\n",
    "\n",
    "# 4. Save the trace file\n",
    "prof.export_chrome_trace(\"gpt2_trace.json\")\n",
    "\n",
    "print(\"Trace file 'gpt2_trace.json' has been generated.\")"
   ]
  },
  {
   "cell_type": "code",
   "execution_count": 21,
   "id": "c9b3cddd-2b7a-4157-9988-b93562d55330",
   "metadata": {},
   "outputs": [
    {
     "name": "stderr",
     "output_type": "stream",
     "text": [
      "Downloads/pytorch/ is not a valid path\n",
      "There is no item in the rank to trace file map.\n",
      "The list of ranks to be parsed is empty.\n",
      "leaving parse_traces duration=0.00 seconds\n"
     ]
    },
    {
     "ename": "ValueError",
     "evalue": "min() iterable argument is empty",
     "output_type": "error",
     "traceback": [
      "\u001b[31m---------------------------------------------------------------------------\u001b[39m",
      "\u001b[31mValueError\u001b[39m                                Traceback (most recent call last)",
      "\u001b[36mCell\u001b[39m\u001b[36m \u001b[39m\u001b[32mIn[21]\u001b[39m\u001b[32m, line 7\u001b[39m\n\u001b[32m      4\u001b[39m trace_dir = \u001b[33m\"\u001b[39m\u001b[33mDownloads/pytorch/\u001b[39m\u001b[33m\"\u001b[39m  \u001b[38;5;66;03m# Replace with the actual path\u001b[39;00m\n\u001b[32m      6\u001b[39m \u001b[38;5;66;03m# 2. Initialize the analyzer\u001b[39;00m\n\u001b[32m----> \u001b[39m\u001b[32m7\u001b[39m analyzer = \u001b[43mTraceAnalysis\u001b[49m\u001b[43m(\u001b[49m\u001b[43mtrace_dir\u001b[49m\u001b[43m=\u001b[49m\u001b[43mtrace_dir\u001b[49m\u001b[43m)\u001b[49m\n\u001b[32m      9\u001b[39m \u001b[38;5;66;03m# 3. Temporal breakdown: compute vs memory vs idle\u001b[39;00m\n\u001b[32m     10\u001b[39m temporal_df = analyzer.get_temporal_breakdown(visualize=\u001b[38;5;28;01mTrue\u001b[39;00m)\n",
      "\u001b[36mFile \u001b[39m\u001b[32m~\\anaconda3\\envs\\pytorch\\Lib\\site-packages\\hta\\trace_analysis.py:38\u001b[39m, in \u001b[36mTraceAnalysis.__init__\u001b[39m\u001b[34m(self, trace_files, trace_dir, include_last_profiler_step)\u001b[39m\n\u001b[32m     31\u001b[39m \u001b[38;5;28;01mdef\u001b[39;00m\u001b[38;5;250m \u001b[39m\u001b[34m__init__\u001b[39m(\n\u001b[32m     32\u001b[39m     \u001b[38;5;28mself\u001b[39m,\n\u001b[32m     33\u001b[39m     trace_files: Optional[Dict[\u001b[38;5;28mint\u001b[39m, \u001b[38;5;28mstr\u001b[39m]] = \u001b[38;5;28;01mNone\u001b[39;00m,\n\u001b[32m     34\u001b[39m     trace_dir: \u001b[38;5;28mstr\u001b[39m = DEFAULT_TRACE_DIR,\n\u001b[32m     35\u001b[39m     include_last_profiler_step: Optional[\u001b[38;5;28mbool\u001b[39m] = \u001b[38;5;28;01mFalse\u001b[39;00m,\n\u001b[32m     36\u001b[39m ):\n\u001b[32m     37\u001b[39m     \u001b[38;5;28mself\u001b[39m.t = Trace(trace_files, trace_dir)\n\u001b[32m---> \u001b[39m\u001b[32m38\u001b[39m     \u001b[38;5;28;43mself\u001b[39;49m\u001b[43m.\u001b[49m\u001b[43mt\u001b[49m\u001b[43m.\u001b[49m\u001b[43mload_traces\u001b[49m\u001b[43m(\u001b[49m\u001b[43minclude_last_profiler_step\u001b[49m\u001b[43m)\u001b[49m\n\u001b[32m     39\u001b[39m     \u001b[38;5;28;01massert\u001b[39;00m \u001b[38;5;28mself\u001b[39m.t.is_parsed \u001b[38;5;129;01mis\u001b[39;00m \u001b[38;5;28;01mTrue\u001b[39;00m\n",
      "\u001b[36mFile \u001b[39m\u001b[32m~\\anaconda3\\envs\\pytorch\\Lib\\site-packages\\hta\\common\\trace.py:418\u001b[39m, in \u001b[36mTrace.load_traces\u001b[39m\u001b[34m(self, include_last_profiler_step, use_multiprocessing, use_memory_profiling)\u001b[39m\n\u001b[32m    413\u001b[39m     \u001b[38;5;28;01mreturn\u001b[39;00m\n\u001b[32m    414\u001b[39m \u001b[38;5;28mself\u001b[39m.parse_traces(\n\u001b[32m    415\u001b[39m     use_multiprocessing=use_multiprocessing,\n\u001b[32m    416\u001b[39m     use_memory_profiling=use_memory_profiling,\n\u001b[32m    417\u001b[39m )\n\u001b[32m--> \u001b[39m\u001b[32m418\u001b[39m \u001b[38;5;28;43mself\u001b[39;49m\u001b[43m.\u001b[49m\u001b[43malign_and_filter_trace\u001b[49m\u001b[43m(\u001b[49m\u001b[43minclude_last_profiler_step\u001b[49m\u001b[43m)\u001b[49m\n\u001b[32m    419\u001b[39m \u001b[38;5;28;01mfor\u001b[39;00m rank, df \u001b[38;5;129;01min\u001b[39;00m \u001b[38;5;28mself\u001b[39m.traces.items():\n\u001b[32m    420\u001b[39m     df = \u001b[38;5;28mself\u001b[39m.traces[rank].set_index(\u001b[33m\"\u001b[39m\u001b[33mindex\u001b[39m\u001b[33m\"\u001b[39m, drop=\u001b[38;5;28;01mFalse\u001b[39;00m)\n",
      "\u001b[36mFile \u001b[39m\u001b[32m~\\anaconda3\\envs\\pytorch\\Lib\\site-packages\\hta\\common\\trace.py:564\u001b[39m, in \u001b[36mTrace.align_and_filter_trace\u001b[39m\u001b[34m(self, include_last_profiler_step)\u001b[39m\n\u001b[32m    558\u001b[39m \u001b[38;5;28;01mdef\u001b[39;00m\u001b[38;5;250m \u001b[39m\u001b[34malign_and_filter_trace\u001b[39m(\n\u001b[32m    559\u001b[39m     \u001b[38;5;28mself\u001b[39m, include_last_profiler_step: Optional[\u001b[38;5;28mbool\u001b[39m] = \u001b[38;5;28;01mFalse\u001b[39;00m\n\u001b[32m    560\u001b[39m ) -> \u001b[38;5;28;01mNone\u001b[39;00m:\n\u001b[32m    561\u001b[39m \u001b[38;5;250m    \u001b[39m\u001b[33;03m\"\"\"\u001b[39;00m\n\u001b[32m    562\u001b[39m \u001b[33;03m    Align the starting time across multiple ranks and filter events that belong to incomplete iterations.\u001b[39;00m\n\u001b[32m    563\u001b[39m \u001b[33;03m    \"\"\"\u001b[39;00m\n\u001b[32m--> \u001b[39m\u001b[32m564\u001b[39m     \u001b[38;5;28;43mself\u001b[39;49m\u001b[43m.\u001b[49m\u001b[43m_align_all_ranks\u001b[49m\u001b[43m(\u001b[49m\u001b[43m)\u001b[49m\n\u001b[32m    565\u001b[39m     \u001b[38;5;28mself\u001b[39m._filter_irrelevant_gpu_kernels(include_last_profiler_step)\n",
      "\u001b[36mFile \u001b[39m\u001b[32m~\\anaconda3\\envs\\pytorch\\Lib\\site-packages\\hta\\common\\trace.py:700\u001b[39m, in \u001b[36mTrace._align_all_ranks\u001b[39m\u001b[34m(self)\u001b[39m\n\u001b[32m    696\u001b[39m \u001b[38;5;28;01mdef\u001b[39;00m\u001b[38;5;250m \u001b[39m\u001b[34m_align_all_ranks\u001b[39m(\u001b[38;5;28mself\u001b[39m) -> \u001b[38;5;28;01mNone\u001b[39;00m:\n\u001b[32m    697\u001b[39m \u001b[38;5;250m    \u001b[39m\u001b[33;03m\"\"\"\u001b[39;00m\n\u001b[32m    698\u001b[39m \u001b[33;03m    Align dataframes for all ranks such that the earliest event starts at time 0.\u001b[39;00m\n\u001b[32m    699\u001b[39m \u001b[33;03m    \"\"\"\u001b[39;00m\n\u001b[32m--> \u001b[39m\u001b[32m700\u001b[39m     \u001b[38;5;28mself\u001b[39m.min_ts = \u001b[38;5;28;43mmin\u001b[39;49m\u001b[43m(\u001b[49m\u001b[43mtrace_df\u001b[49m\u001b[43m[\u001b[49m\u001b[33;43m\"\u001b[39;49m\u001b[33;43mts\u001b[39;49m\u001b[33;43m\"\u001b[39;49m\u001b[43m]\u001b[49m\u001b[43m.\u001b[49m\u001b[43mmin\u001b[49m\u001b[43m(\u001b[49m\u001b[43m)\u001b[49m\u001b[43m \u001b[49m\u001b[38;5;28;43;01mfor\u001b[39;49;00m\u001b[43m \u001b[49m\u001b[43mtrace_df\u001b[49m\u001b[43m \u001b[49m\u001b[38;5;129;43;01min\u001b[39;49;00m\u001b[43m \u001b[49m\u001b[38;5;28;43mself\u001b[39;49m\u001b[43m.\u001b[49m\u001b[43mtraces\u001b[49m\u001b[43m.\u001b[49m\u001b[43mvalues\u001b[49m\u001b[43m(\u001b[49m\u001b[43m)\u001b[49m\u001b[43m)\u001b[49m\n\u001b[32m    701\u001b[39m     \u001b[38;5;28;01mfor\u001b[39;00m rank, trace_df \u001b[38;5;129;01min\u001b[39;00m \u001b[38;5;28mself\u001b[39m.traces.items():\n\u001b[32m    702\u001b[39m         trace_df[\u001b[33m\"\u001b[39m\u001b[33mts\u001b[39m\u001b[33m\"\u001b[39m] = trace_df[\u001b[33m\"\u001b[39m\u001b[33mts\u001b[39m\u001b[33m\"\u001b[39m] - \u001b[38;5;28mself\u001b[39m.min_ts\n",
      "\u001b[31mValueError\u001b[39m: min() iterable argument is empty"
     ]
    }
   ],
   "source": [
    "from hta.trace_analysis import TraceAnalysis\n",
    "\n",
    "# 1. Set the path to the directory containing your trace file\n",
    "trace_dir = \"Downloads/pytorch/\"  # Replace with the actual path\n",
    "\n",
    "# 2. Initialize the analyzer\n",
    "analyzer = TraceAnalysis(trace_dir=trace_dir)\n",
    "\n",
    "# 3. Temporal breakdown: compute vs memory vs idle\n",
    "temporal_df = analyzer.get_temporal_breakdown(visualize=True)\n",
    "\n",
    "# 4. Idle time breakdown\n",
    "idle_df = analyzer.get_idle_time_breakdown(visualize=True)\n",
    "\n",
    "# 5. Kernel duration distribution\n",
    "kernel_df = analyzer.get_kernel_duration_distribution(visualize=True)\n",
    "\n",
    "# 6. Communication-computation overlap (useful for multi-GPU)\n",
    "overlap_df = analyzer.get_communication_computation_overlap(visualize=True)\n",
    "\n",
    "# 7. Save results to CSV (optional)\n",
    "temporal_df.to_csv(\"temporal_breakdown.csv\")\n",
    "idle_df.to_csv(\"idle_time_breakdown.csv\")\n",
    "kernel_df.to_csv(\"kernel_duration_distribution.csv\")"
   ]
  },
  {
   "cell_type": "code",
   "execution_count": 9,
   "id": "755815a4-f5ba-4c89-a642-01d611d407ca",
   "metadata": {},
   "outputs": [
    {
     "ename": "SyntaxError",
     "evalue": "invalid syntax (1435989176.py, line 1)",
     "output_type": "error",
     "traceback": [
      "  \u001b[36mCell\u001b[39m\u001b[36m \u001b[39m\u001b[32mIn[9]\u001b[39m\u001b[32m, line 1\u001b[39m\n\u001b[31m    \u001b[39m\u001b[31m./traces/gpt2_run/gpt2_trace.json\u001b[39m\n    ^\n\u001b[31mSyntaxError\u001b[39m\u001b[31m:\u001b[39m invalid syntax\n"
     ]
    }
   ],
   "source": [
    "./traces/gpt2_run/gpt2_trace.json"
   ]
  },
  {
   "cell_type": "code",
   "execution_count": 10,
   "id": "e2cc0e3f-eb97-43ab-b7c3-af21fe0a67de",
   "metadata": {},
   "outputs": [
    {
     "data": {
      "application/vnd.jupyter.widget-view+json": {
       "model_id": "69c35bf404104596bac0bc3e6f6c4ef2",
       "version_major": 2,
       "version_minor": 0
      },
      "text/plain": [
       "config.json:   0%|          | 0.00/1.21k [00:00<?, ?B/s]"
      ]
     },
     "metadata": {},
     "output_type": "display_data"
    },
    {
     "name": "stderr",
     "output_type": "stream",
     "text": [
      "C:\\Users\\vaibh\\anaconda3\\envs\\pytorch\\Lib\\site-packages\\huggingface_hub\\file_download.py:143: UserWarning: `huggingface_hub` cache-system uses symlinks by default to efficiently store duplicated files but your machine does not support them in C:\\Users\\vaibh\\.cache\\huggingface\\hub\\models--t5-small. Caching files will still work but in a degraded version that might require more space on your disk. This warning can be disabled by setting the `HF_HUB_DISABLE_SYMLINKS_WARNING` environment variable. For more details, see https://huggingface.co/docs/huggingface_hub/how-to-cache#limitations.\n",
      "To support symlinks on Windows, you either need to activate Developer Mode or to run Python as an administrator. In order to activate developer mode, see this article: https://docs.microsoft.com/en-us/windows/apps/get-started/enable-your-device-for-development\n",
      "  warnings.warn(message)\n",
      "Xet Storage is enabled for this repo, but the 'hf_xet' package is not installed. Falling back to regular HTTP download. For better performance, install the package with: `pip install huggingface_hub[hf_xet]` or `pip install hf_xet`\n"
     ]
    },
    {
     "data": {
      "application/vnd.jupyter.widget-view+json": {
       "model_id": "4fa5db99d4894a1b81f1c4b1ce6e6be2",
       "version_major": 2,
       "version_minor": 0
      },
      "text/plain": [
       "model.safetensors:   0%|          | 0.00/242M [00:00<?, ?B/s]"
      ]
     },
     "metadata": {},
     "output_type": "display_data"
    },
    {
     "data": {
      "application/vnd.jupyter.widget-view+json": {
       "model_id": "35a6d03bc23e425789c9e330ff478717",
       "version_major": 2,
       "version_minor": 0
      },
      "text/plain": [
       "generation_config.json:   0%|          | 0.00/147 [00:00<?, ?B/s]"
      ]
     },
     "metadata": {},
     "output_type": "display_data"
    },
    {
     "ename": "ImportError",
     "evalue": "\nT5Tokenizer requires the SentencePiece library but it was not found in your environment. Checkout the instructions on the\ninstallation page of its repo: https://github.com/google/sentencepiece#installation and follow the ones\nthat match your environment. Please note that you may need to restart your runtime after installation.\n",
     "output_type": "error",
     "traceback": [
      "\u001b[31m---------------------------------------------------------------------------\u001b[39m",
      "\u001b[31mImportError\u001b[39m                               Traceback (most recent call last)",
      "\u001b[36mCell\u001b[39m\u001b[36m \u001b[39m\u001b[32mIn[10]\u001b[39m\u001b[32m, line 13\u001b[39m\n\u001b[32m     11\u001b[39m device = torch.device(\u001b[33m\"\u001b[39m\u001b[33mcuda\u001b[39m\u001b[33m\"\u001b[39m)\n\u001b[32m     12\u001b[39m model = T5ForConditionalGeneration.from_pretrained(\u001b[33m\"\u001b[39m\u001b[33mt5-small\u001b[39m\u001b[33m\"\u001b[39m).to(device)\n\u001b[32m---> \u001b[39m\u001b[32m13\u001b[39m tokenizer = \u001b[43mT5Tokenizer\u001b[49m\u001b[43m.\u001b[49m\u001b[43mfrom_pretrained\u001b[49m(\u001b[33m\"\u001b[39m\u001b[33mt5-small\u001b[39m\u001b[33m\"\u001b[39m)\n\u001b[32m     15\u001b[39m \u001b[38;5;66;03m# Prepare input\u001b[39;00m\n\u001b[32m     16\u001b[39m input_text = \u001b[33m\"\u001b[39m\u001b[33mtranslate English to French: Hello, how are you?\u001b[39m\u001b[33m\"\u001b[39m\n",
      "\u001b[36mFile \u001b[39m\u001b[32m~\\anaconda3\\envs\\pytorch\\Lib\\site-packages\\transformers\\utils\\import_utils.py:1885\u001b[39m, in \u001b[36mDummyObject.__getattribute__\u001b[39m\u001b[34m(cls, key)\u001b[39m\n\u001b[32m   1883\u001b[39m \u001b[38;5;28;01mif\u001b[39;00m (key.startswith(\u001b[33m\"\u001b[39m\u001b[33m_\u001b[39m\u001b[33m\"\u001b[39m) \u001b[38;5;129;01mand\u001b[39;00m key != \u001b[33m\"\u001b[39m\u001b[33m_from_config\u001b[39m\u001b[33m\"\u001b[39m) \u001b[38;5;129;01mor\u001b[39;00m key == \u001b[33m\"\u001b[39m\u001b[33mis_dummy\u001b[39m\u001b[33m\"\u001b[39m \u001b[38;5;129;01mor\u001b[39;00m key == \u001b[33m\"\u001b[39m\u001b[33mmro\u001b[39m\u001b[33m\"\u001b[39m \u001b[38;5;129;01mor\u001b[39;00m key == \u001b[33m\"\u001b[39m\u001b[33mcall\u001b[39m\u001b[33m\"\u001b[39m:\n\u001b[32m   1884\u001b[39m     \u001b[38;5;28;01mreturn\u001b[39;00m \u001b[38;5;28msuper\u001b[39m().\u001b[34m__getattribute__\u001b[39m(key)\n\u001b[32m-> \u001b[39m\u001b[32m1885\u001b[39m \u001b[43mrequires_backends\u001b[49m\u001b[43m(\u001b[49m\u001b[38;5;28;43mcls\u001b[39;49m\u001b[43m,\u001b[49m\u001b[43m \u001b[49m\u001b[38;5;28;43mcls\u001b[39;49m\u001b[43m.\u001b[49m\u001b[43m_backends\u001b[49m\u001b[43m)\u001b[49m\n",
      "\u001b[36mFile \u001b[39m\u001b[32m~\\anaconda3\\envs\\pytorch\\Lib\\site-packages\\transformers\\utils\\import_utils.py:1871\u001b[39m, in \u001b[36mrequires_backends\u001b[39m\u001b[34m(obj, backends)\u001b[39m\n\u001b[32m   1868\u001b[39m         failed.append(msg.format(name))\n\u001b[32m   1870\u001b[39m \u001b[38;5;28;01mif\u001b[39;00m failed:\n\u001b[32m-> \u001b[39m\u001b[32m1871\u001b[39m     \u001b[38;5;28;01mraise\u001b[39;00m \u001b[38;5;167;01mImportError\u001b[39;00m(\u001b[33m\"\u001b[39m\u001b[33m\"\u001b[39m.join(failed))\n",
      "\u001b[31mImportError\u001b[39m: \nT5Tokenizer requires the SentencePiece library but it was not found in your environment. Checkout the instructions on the\ninstallation page of its repo: https://github.com/google/sentencepiece#installation and follow the ones\nthat match your environment. Please note that you may need to restart your runtime after installation.\n"
     ]
    }
   ],
   "source": [
    "import pynvml\n",
    "import torch\n",
    "from transformers import T5Tokenizer, T5ForConditionalGeneration\n",
    "import time\n",
    "\n",
    "# Initialize GPU power monitoring\n",
    "pynvml.nvmlInit()\n",
    "handle = pynvml.nvmlDeviceGetHandleByIndex(0)\n",
    "\n",
    "# Load model\n",
    "device = torch.device(\"cuda\")\n",
    "model = T5ForConditionalGeneration.from_pretrained(\"t5-small\").to(device)\n",
    "tokenizer = T5Tokenizer.from_pretrained(\"t5-small\")\n",
    "\n",
    "# Prepare input\n",
    "input_text = \"translate English to French: Hello, how are you?\"\n",
    "inputs = tokenizer(input_text, return_tensors=\"pt\").to(device)\n",
    "\n",
    "# Warm-up\n",
    "_ = model.generate(**inputs)\n",
    "\n",
    "# Measure power during generation\n",
    "powers = []\n",
    "start = time.time()\n",
    "\n",
    "for _ in range(20):  # Sample power 20 times (~10s if 0.5s interval)\n",
    "    power = pynvml.nvmlDeviceGetPowerUsage(handle)  # in mW\n",
    "    powers.append(power)\n",
    "    time.sleep(0.5)\n",
    "\n",
    "# Run inference\n",
    "output_ids = model.generate(**inputs, max_new_tokens=20)\n",
    "end = time.time()\n",
    "\n",
    "# Decode output\n",
    "output_text = tokenizer.decode(output_ids[0], skip_special_tokens=True)\n",
    "print(\"📝 Input:\", input_text)\n",
    "print(\"📤 Output:\", output_text)\n",
    "\n",
    "# Compute power\n",
    "avg_power = sum(powers) / len(powers) / 1000  # to watts\n",
    "duration = end - start\n",
    "energy_joules = avg_power * duration\n",
    "\n",
    "print(f\"⚡ Avg Power: {avg_power:.2f} W\")\n",
    "print(f\"⏱ Duration: {duration:.2f} s\")\n",
    "print(f\"🔋 Estimated Energy: {energy_joules:.2f} J\")"
   ]
  },
  {
   "cell_type": "code",
   "execution_count": 11,
   "id": "49c3122b-b928-46d4-abbb-4f4fc5d5d672",
   "metadata": {},
   "outputs": [
    {
     "name": "stdout",
     "output_type": "stream",
     "text": [
      "Collecting nvidia-ml-py3\n",
      "  Downloading nvidia-ml-py3-7.352.0.tar.gz (19 kB)\n",
      "  Preparing metadata (setup.py): started\n",
      "  Preparing metadata (setup.py): finished with status 'done'\n",
      "Building wheels for collected packages: nvidia-ml-py3\n",
      "  Building wheel for nvidia-ml-py3 (setup.py): started\n",
      "  Building wheel for nvidia-ml-py3 (setup.py): finished with status 'done'\n",
      "  Created wheel for nvidia-ml-py3: filename=nvidia_ml_py3-7.352.0-py3-none-any.whl size=19217 sha256=2cc820dbbdcd64bf4319ba076645ca65dc4116f3426b29c5043b407e6a061d16\n",
      "  Stored in directory: c:\\users\\vaibh\\appdata\\local\\pip\\cache\\wheels\\6e\\65\\79\\33dee66cba26e8204801916dfee7481bccfd22905ebb841fe5\n",
      "Successfully built nvidia-ml-py3\n",
      "Installing collected packages: nvidia-ml-py3\n",
      "Successfully installed nvidia-ml-py3-7.352.0\n"
     ]
    },
    {
     "name": "stderr",
     "output_type": "stream",
     "text": [
      "  DEPRECATION: Building 'nvidia-ml-py3' using the legacy setup.py bdist_wheel mechanism, which will be removed in a future version. pip 25.3 will enforce this behaviour change. A possible replacement is to use the standardized build interface by setting the `--use-pep517` option, (possibly combined with `--no-build-isolation`), or adding a `pyproject.toml` file to the source tree of 'nvidia-ml-py3'. Discussion can be found at https://github.com/pypa/pip/issues/6334\n"
     ]
    }
   ],
   "source": [
    "!pip install nvidia-ml-py3"
   ]
  },
  {
   "cell_type": "code",
   "execution_count": 14,
   "id": "06c85866-3839-475b-9b14-6682c859a439",
   "metadata": {},
   "outputs": [
    {
     "name": "stdout",
     "output_type": "stream",
     "text": [
      "Collecting matplotlib\n",
      "  Downloading matplotlib-3.10.3-cp312-cp312-win_amd64.whl.metadata (11 kB)\n",
      "Collecting contourpy>=1.0.1 (from matplotlib)\n",
      "  Downloading contourpy-1.3.2-cp312-cp312-win_amd64.whl.metadata (5.5 kB)\n",
      "Collecting cycler>=0.10 (from matplotlib)\n",
      "  Downloading cycler-0.12.1-py3-none-any.whl.metadata (3.8 kB)\n",
      "Collecting fonttools>=4.22.0 (from matplotlib)\n",
      "  Downloading fonttools-4.58.4-cp312-cp312-win_amd64.whl.metadata (108 kB)\n",
      "Collecting kiwisolver>=1.3.1 (from matplotlib)\n",
      "  Downloading kiwisolver-1.4.8-cp312-cp312-win_amd64.whl.metadata (6.3 kB)\n",
      "Requirement already satisfied: numpy>=1.23 in c:\\users\\vaibh\\anaconda3\\envs\\pytorch\\lib\\site-packages (from matplotlib) (2.0.1)\n",
      "Requirement already satisfied: packaging>=20.0 in c:\\users\\vaibh\\anaconda3\\envs\\pytorch\\lib\\site-packages (from matplotlib) (25.0)\n",
      "Requirement already satisfied: pillow>=8 in c:\\users\\vaibh\\anaconda3\\envs\\pytorch\\lib\\site-packages (from matplotlib) (11.1.0)\n",
      "Requirement already satisfied: pyparsing>=2.3.1 in c:\\users\\vaibh\\anaconda3\\envs\\pytorch\\lib\\site-packages (from matplotlib) (3.2.3)\n",
      "Requirement already satisfied: python-dateutil>=2.7 in c:\\users\\vaibh\\anaconda3\\envs\\pytorch\\lib\\site-packages (from matplotlib) (2.9.0.post0)\n",
      "Requirement already satisfied: six>=1.5 in c:\\users\\vaibh\\anaconda3\\envs\\pytorch\\lib\\site-packages (from python-dateutil>=2.7->matplotlib) (1.17.0)\n",
      "Downloading matplotlib-3.10.3-cp312-cp312-win_amd64.whl (8.1 MB)\n",
      "   ---------------------------------------- 0.0/8.1 MB ? eta -:--:--\n",
      "   -- ------------------------------------- 0.5/8.1 MB 2.8 MB/s eta 0:00:03\n",
      "   ----- ---------------------------------- 1.0/8.1 MB 2.6 MB/s eta 0:00:03\n",
      "   ------ --------------------------------- 1.3/8.1 MB 2.6 MB/s eta 0:00:03\n",
      "   --------- ------------------------------ 1.8/8.1 MB 2.2 MB/s eta 0:00:03\n",
      "   ---------- ----------------------------- 2.1/8.1 MB 2.1 MB/s eta 0:00:03\n",
      "   ---------- ----------------------------- 2.1/8.1 MB 2.1 MB/s eta 0:00:03\n",
      "   ----------- ---------------------------- 2.4/8.1 MB 1.8 MB/s eta 0:00:04\n",
      "   ----------- ---------------------------- 2.4/8.1 MB 1.8 MB/s eta 0:00:04\n",
      "   ------------ --------------------------- 2.6/8.1 MB 1.4 MB/s eta 0:00:04\n",
      "   ------------ --------------------------- 2.6/8.1 MB 1.4 MB/s eta 0:00:04\n",
      "   ------------ --------------------------- 2.6/8.1 MB 1.4 MB/s eta 0:00:04\n",
      "   ------------ --------------------------- 2.6/8.1 MB 1.4 MB/s eta 0:00:04\n",
      "   ------------ --------------------------- 2.6/8.1 MB 1.4 MB/s eta 0:00:04\n",
      "   -------------- ------------------------- 2.9/8.1 MB 998.6 kB/s eta 0:00:06\n",
      "   --------------- ------------------------ 3.1/8.1 MB 1.0 MB/s eta 0:00:05\n",
      "   ---------------- ----------------------- 3.4/8.1 MB 996.7 kB/s eta 0:00:05\n",
      "   ------------------ --------------------- 3.7/8.1 MB 982.4 kB/s eta 0:00:05\n",
      "   ------------------ --------------------- 3.7/8.1 MB 982.4 kB/s eta 0:00:05\n",
      "   ------------------- -------------------- 3.9/8.1 MB 954.7 kB/s eta 0:00:05\n",
      "   ------------------- -------------------- 3.9/8.1 MB 954.7 kB/s eta 0:00:05\n",
      "   -------------------- ------------------- 4.2/8.1 MB 908.5 kB/s eta 0:00:05\n",
      "   -------------------- ------------------- 4.2/8.1 MB 908.5 kB/s eta 0:00:05\n",
      "   -------------------- ------------------- 4.2/8.1 MB 908.5 kB/s eta 0:00:05\n",
      "   ---------------------- ----------------- 4.5/8.1 MB 868.7 kB/s eta 0:00:05\n",
      "   ---------------------- ----------------- 4.5/8.1 MB 868.7 kB/s eta 0:00:05\n",
      "   ----------------------- ---------------- 4.7/8.1 MB 851.4 kB/s eta 0:00:04\n",
      "   ------------------------ --------------- 5.0/8.1 MB 853.1 kB/s eta 0:00:04\n",
      "   ------------------------- -------------- 5.2/8.1 MB 861.6 kB/s eta 0:00:04\n",
      "   ------------------------- -------------- 5.2/8.1 MB 861.6 kB/s eta 0:00:04\n",
      "   --------------------------- ------------ 5.5/8.1 MB 858.2 kB/s eta 0:00:03\n",
      "   ---------------------------- ----------- 5.8/8.1 MB 865.7 kB/s eta 0:00:03\n",
      "   ----------------------------- ---------- 6.0/8.1 MB 876.7 kB/s eta 0:00:03\n",
      "   ----------------------------- ---------- 6.0/8.1 MB 876.7 kB/s eta 0:00:03\n",
      "   ------------------------------- -------- 6.3/8.1 MB 869.2 kB/s eta 0:00:03\n",
      "   -------------------------------- ------- 6.6/8.1 MB 862.2 kB/s eta 0:00:02\n",
      "   -------------------------------- ------- 6.6/8.1 MB 862.2 kB/s eta 0:00:02\n",
      "   --------------------------------- ------ 6.8/8.1 MB 852.6 kB/s eta 0:00:02\n",
      "   ----------------------------------- ---- 7.1/8.1 MB 858.7 kB/s eta 0:00:02\n",
      "   ------------------------------------ --- 7.3/8.1 MB 867.8 kB/s eta 0:00:01\n",
      "   ------------------------------------- -- 7.6/8.1 MB 871.5 kB/s eta 0:00:01\n",
      "   ------------------------------------- -- 7.6/8.1 MB 871.5 kB/s eta 0:00:01\n",
      "   -------------------------------------- - 7.9/8.1 MB 873.5 kB/s eta 0:00:01\n",
      "   ---------------------------------------- 8.1/8.1 MB 871.9 kB/s eta 0:00:00\n",
      "Downloading contourpy-1.3.2-cp312-cp312-win_amd64.whl (223 kB)\n",
      "Downloading cycler-0.12.1-py3-none-any.whl (8.3 kB)\n",
      "Downloading fonttools-4.58.4-cp312-cp312-win_amd64.whl (2.2 MB)\n",
      "   ---------------------------------------- 0.0/2.2 MB ? eta -:--:--\n",
      "   ---------------------------------------- 0.0/2.2 MB ? eta -:--:--\n",
      "   ---- ----------------------------------- 0.3/2.2 MB ? eta -:--:--\n",
      "   ---- ----------------------------------- 0.3/2.2 MB ? eta -:--:--\n",
      "   --------- ------------------------------ 0.5/2.2 MB 762.0 kB/s eta 0:00:03\n",
      "   --------- ------------------------------ 0.5/2.2 MB 762.0 kB/s eta 0:00:03\n",
      "   -------------- ------------------------- 0.8/2.2 MB 632.4 kB/s eta 0:00:03\n",
      "   -------------- ------------------------- 0.8/2.2 MB 632.4 kB/s eta 0:00:03\n",
      "   ------------------ --------------------- 1.0/2.2 MB 689.2 kB/s eta 0:00:02\n",
      "   ----------------------- ---------------- 1.3/2.2 MB 762.6 kB/s eta 0:00:02\n",
      "   ---------------------------- ----------- 1.6/2.2 MB 798.7 kB/s eta 0:00:01\n",
      "   -------------------------------- ------- 1.8/2.2 MB 831.8 kB/s eta 0:00:01\n",
      "   -------------------------------- ------- 1.8/2.2 MB 831.8 kB/s eta 0:00:01\n",
      "   ------------------------------------- -- 2.1/2.2 MB 798.9 kB/s eta 0:00:01\n",
      "   ---------------------------------------- 2.2/2.2 MB 799.7 kB/s eta 0:00:00\n",
      "Downloading kiwisolver-1.4.8-cp312-cp312-win_amd64.whl (71 kB)\n",
      "Installing collected packages: kiwisolver, fonttools, cycler, contourpy, matplotlib\n",
      "\n",
      "   -------- ------------------------------- 1/5 [fonttools]\n",
      "   -------- ------------------------------- 1/5 [fonttools]\n",
      "   -------- ------------------------------- 1/5 [fonttools]\n",
      "   -------- ------------------------------- 1/5 [fonttools]\n",
      "   -------- ------------------------------- 1/5 [fonttools]\n",
      "   -------- ------------------------------- 1/5 [fonttools]\n",
      "   -------- ------------------------------- 1/5 [fonttools]\n",
      "   -------- ------------------------------- 1/5 [fonttools]\n",
      "   -------- ------------------------------- 1/5 [fonttools]\n",
      "   -------- ------------------------------- 1/5 [fonttools]\n",
      "   -------- ------------------------------- 1/5 [fonttools]\n",
      "   -------- ------------------------------- 1/5 [fonttools]\n",
      "   -------- ------------------------------- 1/5 [fonttools]\n",
      "   -------- ------------------------------- 1/5 [fonttools]\n",
      "   -------- ------------------------------- 1/5 [fonttools]\n",
      "   -------- ------------------------------- 1/5 [fonttools]\n",
      "   -------- ------------------------------- 1/5 [fonttools]\n",
      "   -------- ------------------------------- 1/5 [fonttools]\n",
      "   -------- ------------------------------- 1/5 [fonttools]\n",
      "   -------- ------------------------------- 1/5 [fonttools]\n",
      "   -------- ------------------------------- 1/5 [fonttools]\n",
      "   ------------------------ --------------- 3/5 [contourpy]\n",
      "   -------------------------------- ------- 4/5 [matplotlib]\n",
      "   -------------------------------- ------- 4/5 [matplotlib]\n",
      "   -------------------------------- ------- 4/5 [matplotlib]\n",
      "   -------------------------------- ------- 4/5 [matplotlib]\n",
      "   -------------------------------- ------- 4/5 [matplotlib]\n",
      "   -------------------------------- ------- 4/5 [matplotlib]\n",
      "   -------------------------------- ------- 4/5 [matplotlib]\n",
      "   -------------------------------- ------- 4/5 [matplotlib]\n",
      "   -------------------------------- ------- 4/5 [matplotlib]\n",
      "   -------------------------------- ------- 4/5 [matplotlib]\n",
      "   -------------------------------- ------- 4/5 [matplotlib]\n",
      "   -------------------------------- ------- 4/5 [matplotlib]\n",
      "   -------------------------------- ------- 4/5 [matplotlib]\n",
      "   -------------------------------- ------- 4/5 [matplotlib]\n",
      "   -------------------------------- ------- 4/5 [matplotlib]\n",
      "   -------------------------------- ------- 4/5 [matplotlib]\n",
      "   -------------------------------- ------- 4/5 [matplotlib]\n",
      "   -------------------------------- ------- 4/5 [matplotlib]\n",
      "   -------------------------------- ------- 4/5 [matplotlib]\n",
      "   -------------------------------- ------- 4/5 [matplotlib]\n",
      "   -------------------------------- ------- 4/5 [matplotlib]\n",
      "   -------------------------------- ------- 4/5 [matplotlib]\n",
      "   -------------------------------- ------- 4/5 [matplotlib]\n",
      "   -------------------------------- ------- 4/5 [matplotlib]\n",
      "   -------------------------------- ------- 4/5 [matplotlib]\n",
      "   -------------------------------- ------- 4/5 [matplotlib]\n",
      "   -------------------------------- ------- 4/5 [matplotlib]\n",
      "   -------------------------------- ------- 4/5 [matplotlib]\n",
      "   -------------------------------- ------- 4/5 [matplotlib]\n",
      "   -------------------------------- ------- 4/5 [matplotlib]\n",
      "   ---------------------------------------- 5/5 [matplotlib]\n",
      "\n",
      "Successfully installed contourpy-1.3.2 cycler-0.12.1 fonttools-4.58.4 kiwisolver-1.4.8 matplotlib-3.10.3\n",
      "Note: you may need to restart the kernel to use updated packages.\n"
     ]
    }
   ],
   "source": [
    "pip install matplotlib"
   ]
  },
  {
   "cell_type": "code",
   "execution_count": 16,
   "id": "bd6ec40d-9bcf-4bad-a196-b3c44e3fe24a",
   "metadata": {},
   "outputs": [],
   "source": [
    "import threading\n",
    "import time\n",
    "import pynvml\n",
    "import torch\n",
    "import pandas as pd\n",
    "import matplotlib.pyplot as plt\n",
    "\n",
    "class PowerMonitor:\n",
    "    \"\"\"\n",
    "    A class to monitor GPU power consumption in a background thread.\n",
    "    \"\"\"\n",
    "    def __init__(self, sample_interval=1.0):\n",
    "        self.sample_interval = sample_interval\n",
    "        self._monitoring = False\n",
    "        self.power_readings = []\n",
    "        self.thread = None\n",
    "\n",
    "        try:\n",
    "            pynvml.nvmlInit()\n",
    "            # Assuming you want to monitor the first GPU (device 0)\n",
    "            self.handle = pynvml.nvmlDeviceGetHandleByIndex(0)\n",
    "            print(\"Successfully initialized NVML and got handle for GPU 0.\")\n",
    "        except pynvml.NVMLError as error:\n",
    "            print(f\"Failed to initialize NVML: {error}\")\n",
    "            self.handle = None\n",
    "\n",
    "    def _monitor_power(self):\n",
    "        \"\"\"The actual monitoring loop that runs in the background.\"\"\"\n",
    "        while self._monitoring:\n",
    "            try:\n",
    "                # Get power usage in milliwatts and convert to watts\n",
    "                power_mw = pynvml.nvmlDeviceGetPowerUsage(self.handle)\n",
    "                power_w = power_mw / 1000.0\n",
    "                self.power_readings.append(power_w)\n",
    "            except pynvml.NVMLError as error:\n",
    "                print(f\"Error getting power reading: {error}\")\n",
    "            time.sleep(self.sample_interval)\n",
    "\n",
    "    def start(self):\n",
    "        \"\"\"Starts the power monitoring thread.\"\"\"\n",
    "        if self.handle and not self._monitoring:\n",
    "            self._monitoring = True\n",
    "            self.power_readings = []  # Clear previous readings\n",
    "            self.thread = threading.Thread(target=self._monitor_power)\n",
    "            self.thread.start()\n",
    "            print(\"Power monitor started.\")\n",
    "\n",
    "    def stop(self):\n",
    "        \"\"\"Stops the power monitoring thread.\"\"\"\n",
    "        if self._monitoring:\n",
    "            self._monitoring = False\n",
    "            if self.thread:\n",
    "                self.thread.join()\n",
    "            print(\"Power monitor stopped.\")\n",
    "        pynvml.nvmlShutdown() # Clean up NVML\n",
    "        return self.power_readings\n",
    "\n",
    "    def get_summary(self):\n",
    "        \"\"\"Returns a summary of the power consumption readings.\"\"\"\n",
    "        if not self.power_readings:\n",
    "            return {\n",
    "                'average_power_w': 0,\n",
    "                'max_power_w': 0,\n",
    "                'min_power_w': 0,\n",
    "                'total_energy_joules': 0\n",
    "            }\n",
    "\n",
    "        avg_power = sum(self.power_readings) / len(self.power_readings)\n",
    "        max_power = max(self.power_readings)\n",
    "        min_power = min(self.power_readings)\n",
    "        # Energy (Joules) = Average Power (Watts) * Time (seconds)\n",
    "        total_time = len(self.power_readings) * self.sample_interval\n",
    "        total_energy = avg_power * total_time\n",
    "\n",
    "        return {\n",
    "            'average_power_w': avg_power,\n",
    "            'max_power_w': max_power,\n",
    "            'min_power_w': min_power,\n",
    "            'total_energy_joules': total_energy,\n",
    "            'monitoring_duration_s': total_time\n",
    "        }\n",
    "        \n",
    "    def plot(self):\n",
    "        \"\"\"Plots the power consumption over time.\"\"\"\n",
    "        if not self.power_readings:\n",
    "            print(\"No power readings to plot.\")\n",
    "            return\n",
    "\n",
    "        time_axis = [i * self.sample_interval for i in range(len(self.power_readings))]\n",
    "        \n",
    "        plt.figure(figsize=(12, 6))\n",
    "        plt.plot(time_axis, self.power_readings, marker='o', linestyle='-', label='GPU Power')\n",
    "        plt.title('GPU Power Consumption Over Time')\n",
    "        plt.xlabel('Time (seconds)')\n",
    "        plt.ylabel('Power (Watts)')\n",
    "        plt.grid(True)\n",
    "        plt.legend()\n",
    "        plt.show()"
   ]
  },
  {
   "cell_type": "code",
   "execution_count": 17,
   "id": "c91269a6-ae22-4d5c-8ec4-914f5a78da2f",
   "metadata": {},
   "outputs": [
    {
     "name": "stdout",
     "output_type": "stream",
     "text": [
      "Successfully initialized NVML and got handle for GPU 0.\n",
      "Power monitor started.\n",
      "\n",
      "Starting a sample GPU workload...\n",
      "Running workload on NVIDIA GeForce RTX 3050 Laptop GPU\n",
      "GPU workload finished.\n",
      "Power monitor stopped.\n",
      "\n",
      "--- Power Consumption Summary ---\n",
      "Average Power: 27.63 Watts\n",
      "Max Power:     30.18 Watts\n",
      "Min Power:     4.97 Watts\n",
      "Total Energy:  386.85 Joules over 14.0 seconds\n",
      "---------------------------------\n",
      "\n"
     ]
    },
    {
     "data": {
      "image/png": "[encoded data removed]",
      "text/plain": [
       "<Figure size 1200x600 with 1 Axes>"
      ]
     },
     "metadata": {},
     "output_type": "display_data"
    }
   ],
   "source": [
    "# --- 1. Instantiate the monitor ---\n",
    "# It will sample power every 0.5 seconds\n",
    "power_monitor = PowerMonitor(sample_interval=0.5)\n",
    "\n",
    "# --- 2. Start monitoring ---\n",
    "power_monitor.start()\n",
    "\n",
    "# --- 3. Run your GPU-intensive workload ---\n",
    "print(\"\\nStarting a sample GPU workload...\")\n",
    "# Ensure the device is a CUDA device if available\n",
    "device = torch.device(\"cuda\" if torch.cuda.is_available() else \"cpu\")\n",
    "if str(device) == \"cpu\":\n",
    "    print(\"WARNING: No CUDA GPU found. Running on CPU. Power consumption will be from the GPU at idle.\")\n",
    "else:\n",
    "    print(f\"Running workload on {torch.cuda.get_device_name(0)}\")\n",
    "\n",
    "# A simple matrix multiplication task to load the GPU\n",
    "a = torch.randn(10000, 10000, device=device)\n",
    "b = torch.randn(10000, 10000, device=device)\n",
    "\n",
    "for i in range(15):\n",
    "    c = torch.matmul(a, b)\n",
    "    # Synchronize to make sure the operation is complete before the next loop\n",
    "    if torch.cuda.is_available():\n",
    "      torch.cuda.synchronize()\n",
    "    time.sleep(0.1) # A small pause\n",
    "\n",
    "print(\"GPU workload finished.\")\n",
    "\n",
    "# --- 4. Stop monitoring and get readings ---\n",
    "readings = power_monitor.stop()\n",
    "\n",
    "# --- 5. Print summary and plot ---\n",
    "summary = power_monitor.get_summary()\n",
    "\n",
    "print(\"\\n--- Power Consumption Summary ---\")\n",
    "print(f\"Average Power: {summary['average_power_w']:.2f} Watts\")\n",
    "print(f\"Max Power:     {summary['max_power_w']:.2f} Watts\")\n",
    "print(f\"Min Power:     {summary['min_power_w']:.2f} Watts\")\n",
    "print(f\"Total Energy:  {summary['total_energy_joules']:.2f} Joules over {summary['monitoring_duration_s']:.1f} seconds\")\n",
    "print(\"---------------------------------\\n\")\n",
    "\n",
    "# Plot the collected data\n",
    "power_monitor.plot()"
   ]
  },
  {
   "cell_type": "code",
   "execution_count": null,
   "id": "bb488a7d-74e2-4c75-a63b-16887b1f0abb",
   "metadata": {},
   "outputs": [],
   "source": []
  }
 ],
 "metadata": {
  "kernelspec": {
   "display_name": "Python 3 (ipykernel)",
   "language": "python",
   "name": "python3"
  },
  "language_info": {
   "codemirror_mode": {
    "name": "ipython",
    "version": 3
   },
   "file_extension": ".py",
   "mimetype": "text/x-python",
   "name": "python",
   "nbconvert_exporter": "python",
   "pygments_lexer": "ipython3",
   "version": "3.12.9"
  }
 },
 "nbformat": 4,
 "nbformat_minor": 5
}
