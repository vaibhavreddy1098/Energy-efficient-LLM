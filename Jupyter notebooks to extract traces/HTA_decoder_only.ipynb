{
 "cells": [
  {
   "cell_type": "code",
   "execution_count": 1,
   "id": "ca1452a4-eb33-44bc-a794-33e509e69b9f",
   "metadata": {},
   "outputs": [
    {
     "name": "stdout",
     "output_type": "stream",
     "text": [
      "Requirement already satisfied: HolisticTraceAnalysis in c:\\users\\vaibh\\anaconda3\\envs\\pytorch\\lib\\site-packages (0.5.0)\n",
      "Requirement already satisfied: jupyterlab>=3.5.1 in c:\\users\\vaibh\\anaconda3\\envs\\pytorch\\lib\\site-packages (from HolisticTraceAnalysis) (4.4.3)\n",
      "Requirement already satisfied: numpy>=1.23.5 in c:\\users\\vaibh\\anaconda3\\envs\\pytorch\\lib\\site-packages (from HolisticTraceAnalysis) (2.0.1)\n",
      "Requirement already satisfied: networkx>=3.1 in c:\\users\\vaibh\\anaconda3\\envs\\pytorch\\lib\\site-packages (from HolisticTraceAnalysis) (3.4.2)\n",
      "Requirement already satisfied: pandas>=1.5.2 in c:\\users\\vaibh\\anaconda3\\envs\\pytorch\\lib\\site-packages (from HolisticTraceAnalysis) (2.2.3)\n",
      "Requirement already satisfied: plotly>=5.11.0 in c:\\users\\vaibh\\anaconda3\\envs\\pytorch\\lib\\site-packages (from HolisticTraceAnalysis) (6.1.2)\n",
      "Requirement already satisfied: pydot>=1.3.0 in c:\\users\\vaibh\\anaconda3\\envs\\pytorch\\lib\\site-packages (from HolisticTraceAnalysis) (4.0.0)\n",
      "Requirement already satisfied: pytest>=7.4.4 in c:\\users\\vaibh\\anaconda3\\envs\\pytorch\\lib\\site-packages (from HolisticTraceAnalysis) (8.4.0)\n",
      "Requirement already satisfied: async-lru>=1.0.0 in c:\\users\\vaibh\\anaconda3\\envs\\pytorch\\lib\\site-packages (from jupyterlab>=3.5.1->HolisticTraceAnalysis) (2.0.5)\n",
      "Requirement already satisfied: httpx>=0.25.0 in c:\\users\\vaibh\\anaconda3\\envs\\pytorch\\lib\\site-packages (from jupyterlab>=3.5.1->HolisticTraceAnalysis) (0.27.2)\n",
      "Requirement already satisfied: ipykernel>=6.5.0 in c:\\users\\vaibh\\anaconda3\\envs\\pytorch\\lib\\site-packages (from jupyterlab>=3.5.1->HolisticTraceAnalysis) (6.29.5)\n",
      "Requirement already satisfied: jinja2>=3.0.3 in c:\\users\\vaibh\\anaconda3\\envs\\pytorch\\lib\\site-packages (from jupyterlab>=3.5.1->HolisticTraceAnalysis) (3.1.6)\n",
      "Requirement already satisfied: jupyter-core in c:\\users\\vaibh\\anaconda3\\envs\\pytorch\\lib\\site-packages (from jupyterlab>=3.5.1->HolisticTraceAnalysis) (5.7.2)\n",
      "Requirement already satisfied: jupyter-lsp>=2.0.0 in c:\\users\\vaibh\\anaconda3\\envs\\pytorch\\lib\\site-packages (from jupyterlab>=3.5.1->HolisticTraceAnalysis) (2.2.5)\n",
      "Requirement already satisfied: jupyter-server<3,>=2.4.0 in c:\\users\\vaibh\\anaconda3\\envs\\pytorch\\lib\\site-packages (from jupyterlab>=3.5.1->HolisticTraceAnalysis) (2.16.0)\n",
      "Requirement already satisfied: jupyterlab-server<3,>=2.27.1 in c:\\users\\vaibh\\anaconda3\\envs\\pytorch\\lib\\site-packages (from jupyterlab>=3.5.1->HolisticTraceAnalysis) (2.27.3)\n",
      "Requirement already satisfied: notebook-shim>=0.2 in c:\\users\\vaibh\\anaconda3\\envs\\pytorch\\lib\\site-packages (from jupyterlab>=3.5.1->HolisticTraceAnalysis) (0.2.4)\n",
      "Requirement already satisfied: packaging in c:\\users\\vaibh\\anaconda3\\envs\\pytorch\\lib\\site-packages (from jupyterlab>=3.5.1->HolisticTraceAnalysis) (25.0)\n",
      "Requirement already satisfied: setuptools>=41.1.0 in c:\\users\\vaibh\\anaconda3\\envs\\pytorch\\lib\\site-packages (from jupyterlab>=3.5.1->HolisticTraceAnalysis) (78.1.1)\n",
      "Requirement already satisfied: tornado>=6.2.0 in c:\\users\\vaibh\\anaconda3\\envs\\pytorch\\lib\\site-packages (from jupyterlab>=3.5.1->HolisticTraceAnalysis) (6.5)\n",
      "Requirement already satisfied: traitlets in c:\\users\\vaibh\\anaconda3\\envs\\pytorch\\lib\\site-packages (from jupyterlab>=3.5.1->HolisticTraceAnalysis) (5.14.3)\n",
      "Requirement already satisfied: anyio>=3.1.0 in c:\\users\\vaibh\\anaconda3\\envs\\pytorch\\lib\\site-packages (from jupyter-server<3,>=2.4.0->jupyterlab>=3.5.1->HolisticTraceAnalysis) (4.9.0)\n",
      "Requirement already satisfied: argon2-cffi>=21.1 in c:\\users\\vaibh\\anaconda3\\envs\\pytorch\\lib\\site-packages (from jupyter-server<3,>=2.4.0->jupyterlab>=3.5.1->HolisticTraceAnalysis) (23.1.0)\n",
      "Requirement already satisfied: jupyter-client>=7.4.4 in c:\\users\\vaibh\\anaconda3\\envs\\pytorch\\lib\\site-packages (from jupyter-server<3,>=2.4.0->jupyterlab>=3.5.1->HolisticTraceAnalysis) (8.6.3)\n",
      "Requirement already satisfied: jupyter-events>=0.11.0 in c:\\users\\vaibh\\anaconda3\\envs\\pytorch\\lib\\site-packages (from jupyter-server<3,>=2.4.0->jupyterlab>=3.5.1->HolisticTraceAnalysis) (0.12.0)\n",
      "Requirement already satisfied: jupyter-server-terminals>=0.4.4 in c:\\users\\vaibh\\anaconda3\\envs\\pytorch\\lib\\site-packages (from jupyter-server<3,>=2.4.0->jupyterlab>=3.5.1->HolisticTraceAnalysis) (0.5.3)\n",
      "Requirement already satisfied: nbconvert>=6.4.4 in c:\\users\\vaibh\\anaconda3\\envs\\pytorch\\lib\\site-packages (from jupyter-server<3,>=2.4.0->jupyterlab>=3.5.1->HolisticTraceAnalysis) (7.16.6)\n",
      "Requirement already satisfied: nbformat>=5.3.0 in c:\\users\\vaibh\\anaconda3\\envs\\pytorch\\lib\\site-packages (from jupyter-server<3,>=2.4.0->jupyterlab>=3.5.1->HolisticTraceAnalysis) (5.10.4)\n",
      "Requirement already satisfied: overrides>=5.0 in c:\\users\\vaibh\\anaconda3\\envs\\pytorch\\lib\\site-packages (from jupyter-server<3,>=2.4.0->jupyterlab>=3.5.1->HolisticTraceAnalysis) (7.7.0)\n",
      "Requirement already satisfied: prometheus-client>=0.9 in c:\\users\\vaibh\\anaconda3\\envs\\pytorch\\lib\\site-packages (from jupyter-server<3,>=2.4.0->jupyterlab>=3.5.1->HolisticTraceAnalysis) (0.22.0)\n",
      "Requirement already satisfied: pywinpty>=2.0.1 in c:\\users\\vaibh\\anaconda3\\envs\\pytorch\\lib\\site-packages (from jupyter-server<3,>=2.4.0->jupyterlab>=3.5.1->HolisticTraceAnalysis) (2.0.15)\n",
      "Requirement already satisfied: pyzmq>=24 in c:\\users\\vaibh\\anaconda3\\envs\\pytorch\\lib\\site-packages (from jupyter-server<3,>=2.4.0->jupyterlab>=3.5.1->HolisticTraceAnalysis) (26.2.0)\n",
      "Requirement already satisfied: send2trash>=1.8.2 in c:\\users\\vaibh\\anaconda3\\envs\\pytorch\\lib\\site-packages (from jupyter-server<3,>=2.4.0->jupyterlab>=3.5.1->HolisticTraceAnalysis) (1.8.3)\n",
      "Requirement already satisfied: terminado>=0.8.3 in c:\\users\\vaibh\\anaconda3\\envs\\pytorch\\lib\\site-packages (from jupyter-server<3,>=2.4.0->jupyterlab>=3.5.1->HolisticTraceAnalysis) (0.18.1)\n",
      "Requirement already satisfied: websocket-client>=1.7 in c:\\users\\vaibh\\anaconda3\\envs\\pytorch\\lib\\site-packages (from jupyter-server<3,>=2.4.0->jupyterlab>=3.5.1->HolisticTraceAnalysis) (1.8.0)\n",
      "Requirement already satisfied: babel>=2.10 in c:\\users\\vaibh\\anaconda3\\envs\\pytorch\\lib\\site-packages (from jupyterlab-server<3,>=2.27.1->jupyterlab>=3.5.1->HolisticTraceAnalysis) (2.17.0)\n",
      "Requirement already satisfied: json5>=0.9.0 in c:\\users\\vaibh\\anaconda3\\envs\\pytorch\\lib\\site-packages (from jupyterlab-server<3,>=2.27.1->jupyterlab>=3.5.1->HolisticTraceAnalysis) (0.12.0)\n",
      "Requirement already satisfied: jsonschema>=4.18.0 in c:\\users\\vaibh\\anaconda3\\envs\\pytorch\\lib\\site-packages (from jupyterlab-server<3,>=2.27.1->jupyterlab>=3.5.1->HolisticTraceAnalysis) (4.24.0)\n",
      "Requirement already satisfied: requests>=2.31 in c:\\users\\vaibh\\anaconda3\\envs\\pytorch\\lib\\site-packages (from jupyterlab-server<3,>=2.27.1->jupyterlab>=3.5.1->HolisticTraceAnalysis) (2.32.3)\n",
      "Requirement already satisfied: idna>=2.8 in c:\\users\\vaibh\\anaconda3\\envs\\pytorch\\lib\\site-packages (from anyio>=3.1.0->jupyter-server<3,>=2.4.0->jupyterlab>=3.5.1->HolisticTraceAnalysis) (3.7)\n",
      "Requirement already satisfied: sniffio>=1.1 in c:\\users\\vaibh\\anaconda3\\envs\\pytorch\\lib\\site-packages (from anyio>=3.1.0->jupyter-server<3,>=2.4.0->jupyterlab>=3.5.1->HolisticTraceAnalysis) (1.3.1)\n",
      "Requirement already satisfied: typing_extensions>=4.5 in c:\\users\\vaibh\\anaconda3\\envs\\pytorch\\lib\\site-packages (from anyio>=3.1.0->jupyter-server<3,>=2.4.0->jupyterlab>=3.5.1->HolisticTraceAnalysis) (4.12.2)\n",
      "Requirement already satisfied: argon2-cffi-bindings in c:\\users\\vaibh\\anaconda3\\envs\\pytorch\\lib\\site-packages (from argon2-cffi>=21.1->jupyter-server<3,>=2.4.0->jupyterlab>=3.5.1->HolisticTraceAnalysis) (21.2.0)\n",
      "Requirement already satisfied: certifi in c:\\users\\vaibh\\anaconda3\\envs\\pytorch\\lib\\site-packages (from httpx>=0.25.0->jupyterlab>=3.5.1->HolisticTraceAnalysis) (2025.6.15)\n",
      "Requirement already satisfied: httpcore==1.* in c:\\users\\vaibh\\anaconda3\\envs\\pytorch\\lib\\site-packages (from httpx>=0.25.0->jupyterlab>=3.5.1->HolisticTraceAnalysis) (1.0.9)\n",
      "Requirement already satisfied: h11>=0.16 in c:\\users\\vaibh\\anaconda3\\envs\\pytorch\\lib\\site-packages (from httpcore==1.*->httpx>=0.25.0->jupyterlab>=3.5.1->HolisticTraceAnalysis) (0.16.0)\n",
      "Requirement already satisfied: comm>=0.1.1 in c:\\users\\vaibh\\anaconda3\\envs\\pytorch\\lib\\site-packages (from ipykernel>=6.5.0->jupyterlab>=3.5.1->HolisticTraceAnalysis) (0.2.2)\n",
      "Requirement already satisfied: debugpy>=1.6.5 in c:\\users\\vaibh\\anaconda3\\envs\\pytorch\\lib\\site-packages (from ipykernel>=6.5.0->jupyterlab>=3.5.1->HolisticTraceAnalysis) (1.8.11)\n",
      "Requirement already satisfied: ipython>=7.23.1 in c:\\users\\vaibh\\anaconda3\\envs\\pytorch\\lib\\site-packages (from ipykernel>=6.5.0->jupyterlab>=3.5.1->HolisticTraceAnalysis) (9.2.0)\n",
      "Requirement already satisfied: matplotlib-inline>=0.1 in c:\\users\\vaibh\\anaconda3\\envs\\pytorch\\lib\\site-packages (from ipykernel>=6.5.0->jupyterlab>=3.5.1->HolisticTraceAnalysis) (0.1.7)\n",
      "Requirement already satisfied: nest-asyncio in c:\\users\\vaibh\\anaconda3\\envs\\pytorch\\lib\\site-packages (from ipykernel>=6.5.0->jupyterlab>=3.5.1->HolisticTraceAnalysis) (1.6.0)\n",
      "Requirement already satisfied: psutil in c:\\users\\vaibh\\anaconda3\\envs\\pytorch\\lib\\site-packages (from ipykernel>=6.5.0->jupyterlab>=3.5.1->HolisticTraceAnalysis) (7.0.0)\n",
      "Requirement already satisfied: colorama in c:\\users\\vaibh\\anaconda3\\envs\\pytorch\\lib\\site-packages (from ipython>=7.23.1->ipykernel>=6.5.0->jupyterlab>=3.5.1->HolisticTraceAnalysis) (0.4.6)\n",
      "Requirement already satisfied: decorator in c:\\users\\vaibh\\anaconda3\\envs\\pytorch\\lib\\site-packages (from ipython>=7.23.1->ipykernel>=6.5.0->jupyterlab>=3.5.1->HolisticTraceAnalysis) (5.2.1)\n",
      "Requirement already satisfied: ipython-pygments-lexers in c:\\users\\vaibh\\anaconda3\\envs\\pytorch\\lib\\site-packages (from ipython>=7.23.1->ipykernel>=6.5.0->jupyterlab>=3.5.1->HolisticTraceAnalysis) (1.1.1)\n",
      "Requirement already satisfied: jedi>=0.16 in c:\\users\\vaibh\\anaconda3\\envs\\pytorch\\lib\\site-packages (from ipython>=7.23.1->ipykernel>=6.5.0->jupyterlab>=3.5.1->HolisticTraceAnalysis) (0.19.2)\n",
      "Requirement already satisfied: prompt_toolkit<3.1.0,>=3.0.41 in c:\\users\\vaibh\\anaconda3\\envs\\pytorch\\lib\\site-packages (from ipython>=7.23.1->ipykernel>=6.5.0->jupyterlab>=3.5.1->HolisticTraceAnalysis) (3.0.51)\n",
      "Requirement already satisfied: pygments>=2.4.0 in c:\\users\\vaibh\\anaconda3\\envs\\pytorch\\lib\\site-packages (from ipython>=7.23.1->ipykernel>=6.5.0->jupyterlab>=3.5.1->HolisticTraceAnalysis) (2.19.1)\n",
      "Requirement already satisfied: stack_data in c:\\users\\vaibh\\anaconda3\\envs\\pytorch\\lib\\site-packages (from ipython>=7.23.1->ipykernel>=6.5.0->jupyterlab>=3.5.1->HolisticTraceAnalysis) (0.6.3)\n",
      "Requirement already satisfied: wcwidth in c:\\users\\vaibh\\anaconda3\\envs\\pytorch\\lib\\site-packages (from prompt_toolkit<3.1.0,>=3.0.41->ipython>=7.23.1->ipykernel>=6.5.0->jupyterlab>=3.5.1->HolisticTraceAnalysis) (0.2.13)\n",
      "Requirement already satisfied: parso<0.9.0,>=0.8.4 in c:\\users\\vaibh\\anaconda3\\envs\\pytorch\\lib\\site-packages (from jedi>=0.16->ipython>=7.23.1->ipykernel>=6.5.0->jupyterlab>=3.5.1->HolisticTraceAnalysis) (0.8.4)\n",
      "Requirement already satisfied: MarkupSafe>=2.0 in c:\\users\\vaibh\\anaconda3\\envs\\pytorch\\lib\\site-packages (from jinja2>=3.0.3->jupyterlab>=3.5.1->HolisticTraceAnalysis) (3.0.2)\n",
      "Requirement already satisfied: attrs>=22.2.0 in c:\\users\\vaibh\\anaconda3\\envs\\pytorch\\lib\\site-packages (from jsonschema>=4.18.0->jupyterlab-server<3,>=2.27.1->jupyterlab>=3.5.1->HolisticTraceAnalysis) (25.3.0)\n",
      "Requirement already satisfied: jsonschema-specifications>=2023.03.6 in c:\\users\\vaibh\\anaconda3\\envs\\pytorch\\lib\\site-packages (from jsonschema>=4.18.0->jupyterlab-server<3,>=2.27.1->jupyterlab>=3.5.1->HolisticTraceAnalysis) (2025.4.1)\n",
      "Requirement already satisfied: referencing>=0.28.4 in c:\\users\\vaibh\\anaconda3\\envs\\pytorch\\lib\\site-packages (from jsonschema>=4.18.0->jupyterlab-server<3,>=2.27.1->jupyterlab>=3.5.1->HolisticTraceAnalysis) (0.36.2)\n",
      "Requirement already satisfied: rpds-py>=0.7.1 in c:\\users\\vaibh\\anaconda3\\envs\\pytorch\\lib\\site-packages (from jsonschema>=4.18.0->jupyterlab-server<3,>=2.27.1->jupyterlab>=3.5.1->HolisticTraceAnalysis) (0.22.3)\n",
      "Requirement already satisfied: python-dateutil>=2.8.2 in c:\\users\\vaibh\\anaconda3\\envs\\pytorch\\lib\\site-packages (from jupyter-client>=7.4.4->jupyter-server<3,>=2.4.0->jupyterlab>=3.5.1->HolisticTraceAnalysis) (2.9.0.post0)\n",
      "Requirement already satisfied: platformdirs>=2.5 in c:\\users\\vaibh\\anaconda3\\envs\\pytorch\\lib\\site-packages (from jupyter-core->jupyterlab>=3.5.1->HolisticTraceAnalysis) (4.3.8)\n",
      "Requirement already satisfied: pywin32>=300 in c:\\users\\vaibh\\anaconda3\\envs\\pytorch\\lib\\site-packages (from jupyter-core->jupyterlab>=3.5.1->HolisticTraceAnalysis) (308)\n",
      "Requirement already satisfied: python-json-logger>=2.0.4 in c:\\users\\vaibh\\anaconda3\\envs\\pytorch\\lib\\site-packages (from jupyter-events>=0.11.0->jupyter-server<3,>=2.4.0->jupyterlab>=3.5.1->HolisticTraceAnalysis) (2.0.7)\n",
      "Requirement already satisfied: pyyaml>=5.3 in c:\\users\\vaibh\\anaconda3\\envs\\pytorch\\lib\\site-packages (from jupyter-events>=0.11.0->jupyter-server<3,>=2.4.0->jupyterlab>=3.5.1->HolisticTraceAnalysis) (6.0.2)\n",
      "Requirement already satisfied: rfc3339-validator in c:\\users\\vaibh\\anaconda3\\envs\\pytorch\\lib\\site-packages (from jupyter-events>=0.11.0->jupyter-server<3,>=2.4.0->jupyterlab>=3.5.1->HolisticTraceAnalysis) (0.1.4)\n",
      "Requirement already satisfied: rfc3986-validator>=0.1.1 in c:\\users\\vaibh\\anaconda3\\envs\\pytorch\\lib\\site-packages (from jupyter-events>=0.11.0->jupyter-server<3,>=2.4.0->jupyterlab>=3.5.1->HolisticTraceAnalysis) (0.1.1)\n",
      "Requirement already satisfied: fqdn in c:\\users\\vaibh\\anaconda3\\envs\\pytorch\\lib\\site-packages (from jsonschema[format-nongpl]>=4.18.0->jupyter-events>=0.11.0->jupyter-server<3,>=2.4.0->jupyterlab>=3.5.1->HolisticTraceAnalysis) (1.5.1)\n",
      "Requirement already satisfied: isoduration in c:\\users\\vaibh\\anaconda3\\envs\\pytorch\\lib\\site-packages (from jsonschema[format-nongpl]>=4.18.0->jupyter-events>=0.11.0->jupyter-server<3,>=2.4.0->jupyterlab>=3.5.1->HolisticTraceAnalysis) (20.11.0)\n",
      "Requirement already satisfied: jsonpointer>1.13 in c:\\users\\vaibh\\anaconda3\\envs\\pytorch\\lib\\site-packages (from jsonschema[format-nongpl]>=4.18.0->jupyter-events>=0.11.0->jupyter-server<3,>=2.4.0->jupyterlab>=3.5.1->HolisticTraceAnalysis) (2.0)\n",
      "Requirement already satisfied: uri-template in c:\\users\\vaibh\\anaconda3\\envs\\pytorch\\lib\\site-packages (from jsonschema[format-nongpl]>=4.18.0->jupyter-events>=0.11.0->jupyter-server<3,>=2.4.0->jupyterlab>=3.5.1->HolisticTraceAnalysis) (1.3.0)\n",
      "Requirement already satisfied: webcolors>=24.6.0 in c:\\users\\vaibh\\anaconda3\\envs\\pytorch\\lib\\site-packages (from jsonschema[format-nongpl]>=4.18.0->jupyter-events>=0.11.0->jupyter-server<3,>=2.4.0->jupyterlab>=3.5.1->HolisticTraceAnalysis) (24.11.1)\n",
      "Requirement already satisfied: beautifulsoup4 in c:\\users\\vaibh\\anaconda3\\envs\\pytorch\\lib\\site-packages (from nbconvert>=6.4.4->jupyter-server<3,>=2.4.0->jupyterlab>=3.5.1->HolisticTraceAnalysis) (4.13.4)\n",
      "Requirement already satisfied: bleach!=5.0.0 in c:\\users\\vaibh\\anaconda3\\envs\\pytorch\\lib\\site-packages (from bleach[css]!=5.0.0->nbconvert>=6.4.4->jupyter-server<3,>=2.4.0->jupyterlab>=3.5.1->HolisticTraceAnalysis) (6.2.0)\n",
      "Requirement already satisfied: defusedxml in c:\\users\\vaibh\\anaconda3\\envs\\pytorch\\lib\\site-packages (from nbconvert>=6.4.4->jupyter-server<3,>=2.4.0->jupyterlab>=3.5.1->HolisticTraceAnalysis) (0.7.1)\n",
      "Requirement already satisfied: jupyterlab-pygments in c:\\users\\vaibh\\anaconda3\\envs\\pytorch\\lib\\site-packages (from nbconvert>=6.4.4->jupyter-server<3,>=2.4.0->jupyterlab>=3.5.1->HolisticTraceAnalysis) (0.3.0)\n",
      "Requirement already satisfied: mistune<4,>=2.0.3 in c:\\users\\vaibh\\anaconda3\\envs\\pytorch\\lib\\site-packages (from nbconvert>=6.4.4->jupyter-server<3,>=2.4.0->jupyterlab>=3.5.1->HolisticTraceAnalysis) (3.1.3)\n",
      "Requirement already satisfied: nbclient>=0.5.0 in c:\\users\\vaibh\\anaconda3\\envs\\pytorch\\lib\\site-packages (from nbconvert>=6.4.4->jupyter-server<3,>=2.4.0->jupyterlab>=3.5.1->HolisticTraceAnalysis) (0.10.2)\n",
      "Requirement already satisfied: pandocfilters>=1.4.1 in c:\\users\\vaibh\\anaconda3\\envs\\pytorch\\lib\\site-packages (from nbconvert>=6.4.4->jupyter-server<3,>=2.4.0->jupyterlab>=3.5.1->HolisticTraceAnalysis) (1.5.0)\n",
      "Requirement already satisfied: webencodings in c:\\users\\vaibh\\anaconda3\\envs\\pytorch\\lib\\site-packages (from bleach!=5.0.0->bleach[css]!=5.0.0->nbconvert>=6.4.4->jupyter-server<3,>=2.4.0->jupyterlab>=3.5.1->HolisticTraceAnalysis) (0.5.1)\n",
      "Requirement already satisfied: tinycss2<1.5,>=1.1.0 in c:\\users\\vaibh\\anaconda3\\envs\\pytorch\\lib\\site-packages (from bleach[css]!=5.0.0->nbconvert>=6.4.4->jupyter-server<3,>=2.4.0->jupyterlab>=3.5.1->HolisticTraceAnalysis) (1.4.0)\n",
      "Requirement already satisfied: fastjsonschema>=2.15 in c:\\users\\vaibh\\anaconda3\\envs\\pytorch\\lib\\site-packages (from nbformat>=5.3.0->jupyter-server<3,>=2.4.0->jupyterlab>=3.5.1->HolisticTraceAnalysis) (2.21.1)\n",
      "Requirement already satisfied: pytz>=2020.1 in c:\\users\\vaibh\\anaconda3\\envs\\pytorch\\lib\\site-packages (from pandas>=1.5.2->HolisticTraceAnalysis) (2025.2)\n",
      "Requirement already satisfied: tzdata>=2022.7 in c:\\users\\vaibh\\anaconda3\\envs\\pytorch\\lib\\site-packages (from pandas>=1.5.2->HolisticTraceAnalysis) (2025.2)\n",
      "Requirement already satisfied: narwhals>=1.15.1 in c:\\users\\vaibh\\anaconda3\\envs\\pytorch\\lib\\site-packages (from plotly>=5.11.0->HolisticTraceAnalysis) (1.43.0)\n",
      "Requirement already satisfied: pyparsing>=3.0.9 in c:\\users\\vaibh\\anaconda3\\envs\\pytorch\\lib\\site-packages (from pydot>=1.3.0->HolisticTraceAnalysis) (3.2.3)\n",
      "Requirement already satisfied: iniconfig>=1 in c:\\users\\vaibh\\anaconda3\\envs\\pytorch\\lib\\site-packages (from pytest>=7.4.4->HolisticTraceAnalysis) (2.1.0)\n",
      "Requirement already satisfied: pluggy<2,>=1.5 in c:\\users\\vaibh\\anaconda3\\envs\\pytorch\\lib\\site-packages (from pytest>=7.4.4->HolisticTraceAnalysis) (1.6.0)\n",
      "Requirement already satisfied: six>=1.5 in c:\\users\\vaibh\\anaconda3\\envs\\pytorch\\lib\\site-packages (from python-dateutil>=2.8.2->jupyter-client>=7.4.4->jupyter-server<3,>=2.4.0->jupyterlab>=3.5.1->HolisticTraceAnalysis) (1.17.0)\n",
      "Requirement already satisfied: charset-normalizer<4,>=2 in c:\\users\\vaibh\\anaconda3\\envs\\pytorch\\lib\\site-packages (from requests>=2.31->jupyterlab-server<3,>=2.27.1->jupyterlab>=3.5.1->HolisticTraceAnalysis) (3.3.2)\n",
      "Requirement already satisfied: urllib3<3,>=1.21.1 in c:\\users\\vaibh\\anaconda3\\envs\\pytorch\\lib\\site-packages (from requests>=2.31->jupyterlab-server<3,>=2.27.1->jupyterlab>=3.5.1->HolisticTraceAnalysis) (2.3.0)\n",
      "Requirement already satisfied: cffi>=1.0.1 in c:\\users\\vaibh\\anaconda3\\envs\\pytorch\\lib\\site-packages (from argon2-cffi-bindings->argon2-cffi>=21.1->jupyter-server<3,>=2.4.0->jupyterlab>=3.5.1->HolisticTraceAnalysis) (1.17.1)\n",
      "Requirement already satisfied: pycparser in c:\\users\\vaibh\\anaconda3\\envs\\pytorch\\lib\\site-packages (from cffi>=1.0.1->argon2-cffi-bindings->argon2-cffi>=21.1->jupyter-server<3,>=2.4.0->jupyterlab>=3.5.1->HolisticTraceAnalysis) (2.22)\n",
      "Requirement already satisfied: soupsieve>1.2 in c:\\users\\vaibh\\anaconda3\\envs\\pytorch\\lib\\site-packages (from beautifulsoup4->nbconvert>=6.4.4->jupyter-server<3,>=2.4.0->jupyterlab>=3.5.1->HolisticTraceAnalysis) (2.7)\n",
      "Requirement already satisfied: arrow>=0.15.0 in c:\\users\\vaibh\\anaconda3\\envs\\pytorch\\lib\\site-packages (from isoduration->jsonschema[format-nongpl]>=4.18.0->jupyter-events>=0.11.0->jupyter-server<3,>=2.4.0->jupyterlab>=3.5.1->HolisticTraceAnalysis) (1.3.0)\n",
      "Requirement already satisfied: types-python-dateutil>=2.8.10 in c:\\users\\vaibh\\anaconda3\\envs\\pytorch\\lib\\site-packages (from arrow>=0.15.0->isoduration->jsonschema[format-nongpl]>=4.18.0->jupyter-events>=0.11.0->jupyter-server<3,>=2.4.0->jupyterlab>=3.5.1->HolisticTraceAnalysis) (2.9.0.20250516)\n",
      "Requirement already satisfied: executing>=1.2.0 in c:\\users\\vaibh\\anaconda3\\envs\\pytorch\\lib\\site-packages (from stack_data->ipython>=7.23.1->ipykernel>=6.5.0->jupyterlab>=3.5.1->HolisticTraceAnalysis) (2.2.0)\n",
      "Requirement already satisfied: asttokens>=2.1.0 in c:\\users\\vaibh\\anaconda3\\envs\\pytorch\\lib\\site-packages (from stack_data->ipython>=7.23.1->ipykernel>=6.5.0->jupyterlab>=3.5.1->HolisticTraceAnalysis) (3.0.0)\n",
      "Requirement already satisfied: pure_eval in c:\\users\\vaibh\\anaconda3\\envs\\pytorch\\lib\\site-packages (from stack_data->ipython>=7.23.1->ipykernel>=6.5.0->jupyterlab>=3.5.1->HolisticTraceAnalysis) (0.2.3)\n",
      "Note: you may need to restart the kernel to use updated packages.\n"
     ]
    }
   ],
   "source": [
    "pip install HolisticTraceAnalysis"
   ]
  },
  {
   "cell_type": "code",
   "execution_count": 4,
   "id": "1183c9db-bb9f-4b04-b761-b527e287b223",
   "metadata": {},
   "outputs": [
    {
     "name": "stdout",
     "output_type": "stream",
     "text": [
      "Rank: 0, Number of events: 6990\n",
      "[215 109 151 222 256 329 263 248 325 186 129 308 220 174 396   2 380 351\n",
      " 132  50 290 155  75 383  80  13  31 298 382 201 390 364 384 167  97 279\n",
      " 188 145  47 150 210 173 184 146 354 367  70 286 175 154 110 267 321 161\n",
      " 328  39  71  74 221 317 177 389 368 223 287 138  49  82 213  95 239 345\n",
      " 168 324 399 313   8  48 319 363 301 100 295 358 165 278  22 343 259  15\n",
      " 332 235 274  78 131 115  38 160  53 285 211 327  72 240 158  57 159 336\n",
      " 111 280 342 238 208 373 260 254  84  11 143 275 310 258 377 185 209  73\n",
      " 101  23  41  35 369 272 216  64 162 249 264 365 232 305 108  79 144   4\n",
      "   5 255 199 391 130  21 385  77 152 181  56 244 276 356  30 147 375  85\n",
      "  51 341 236 359 312  89  67 371 135 282  28 299 116  17 394  81  40 139\n",
      "  37 120  68 393 326 398  55  87 253 333  10 357   3 281 214 381  42  18\n",
      "  61 353 230 302 190 102 153 247 134   7  54 192 386 180 142  16 350 323\n",
      " 227 118 107 203   1  34 123 182 252 122 334 277 112  25 224 231  88 289\n",
      " 241 361 320 106 243 202 284 309 292  20  27 348 268 311 270 124 219 331\n",
      "  33 296 141 314 189 178 352 388  26  46 179 163 176 204   9  98 196 269\n",
      " 338 103 119 366  90 113 300 229 261 337 251 294 197 198 291 206 166 395\n",
      "  92 318 322 128 194 193  36  65 242 360 137 157   6 125 288 105 133 225\n",
      " 205 303 344 370 250 265 187 156  59 218 339 262  32 347 245 271 126  43\n",
      "  69  62 149  83  76 136  14  45 164  96 307  24  66 293 171 148 349 335\n",
      " 183 114 315   0 306  99  63 169  93 207 355 372 330  60 226 127 246  94\n",
      " 191 257  29  52]\n"
     ]
    }
   ],
   "source": [
    "for rank, df in analyzer.t.traces.items():\n",
    "    print(f\"Rank: {rank}, Number of events: {len(df)}\")\n",
    "    print(df[\"name\"].unique())"
   ]
  },
  {
   "cell_type": "code",
   "execution_count": 3,
   "id": "687b6495-854e-460a-a72e-3d732a96b7a6",
   "metadata": {},
   "outputs": [
    {
     "name": "stderr",
     "output_type": "stream",
     "text": [
      "If the trace file does not have the rank specified in it, then add the following snippet key to the json files to use HTA; \"distributedInfo\": {\"rank\": 0}. If there are multiple traces files, then each file should have a unique rank value.For now we will default to rank = 0.\n",
      "Parsed trace_dir\\gpt2_trace-checkpoint.json time = 0.18 seconds \n",
      "Rounding down ns resolution events due to issue with events overlapping. ts dtype = float64, dur dtype = float64.Please see https://github.com/pytorch/pytorch/pull/122425\n",
      "Parsed trace_dir\\gpt2_trace-checkpoint.json backend=ParserBackend.JSON in 0.42 seconds; current PID:4512\n",
      "Overall parsing of trace_dir\\gpt2_trace-checkpoint.json in 0.46 seconds; current PID:4512\n",
      "leaving parse_multiple_ranks duration=0.47 seconds\n",
      "leaving parse_traces duration=0.47 seconds\n"
     ]
    },
    {
     "ename": "IndexError",
     "evalue": "single positional indexer is out-of-bounds",
     "output_type": "error",
     "traceback": [
      "\u001b[31m---------------------------------------------------------------------------\u001b[39m",
      "\u001b[31mIndexError\u001b[39m                                Traceback (most recent call last)",
      "\u001b[36mCell\u001b[39m\u001b[36m \u001b[39m\u001b[32mIn[3]\u001b[39m\u001b[32m, line 4\u001b[39m\n\u001b[32m      1\u001b[39m \u001b[38;5;28;01mfrom\u001b[39;00m\u001b[38;5;250m \u001b[39m\u001b[34;01mhta\u001b[39;00m\u001b[34;01m.\u001b[39;00m\u001b[34;01mtrace_analysis\u001b[39;00m\u001b[38;5;250m \u001b[39m\u001b[38;5;28;01mimport\u001b[39;00m TraceAnalysis\n\u001b[32m      3\u001b[39m analyzer = TraceAnalysis(trace_dir=\u001b[33m\"\u001b[39m\u001b[33mtrace_dir\u001b[39m\u001b[33m\"\u001b[39m)\n\u001b[32m----> \u001b[39m\u001b[32m4\u001b[39m \u001b[43manalyzer\u001b[49m\u001b[43m.\u001b[49m\u001b[43mget_temporal_breakdown\u001b[49m\u001b[43m(\u001b[49m\u001b[43mvisualize\u001b[49m\u001b[43m=\u001b[49m\u001b[38;5;28;43;01mTrue\u001b[39;49;00m\u001b[43m)\u001b[49m\n",
      "\u001b[36mFile \u001b[39m\u001b[32m~\\anaconda3\\envs\\pytorch\\Lib\\site-packages\\hta\\trace_analysis.py:248\u001b[39m, in \u001b[36mTraceAnalysis.get_temporal_breakdown\u001b[39m\u001b[34m(self, visualize)\u001b[39m\n\u001b[32m    232\u001b[39m \u001b[38;5;28;01mdef\u001b[39;00m\u001b[38;5;250m \u001b[39m\u001b[34mget_temporal_breakdown\u001b[39m(\u001b[38;5;28mself\u001b[39m, visualize: \u001b[38;5;28mbool\u001b[39m = \u001b[38;5;28;01mTrue\u001b[39;00m) -> pd.DataFrame:\n\u001b[32m    233\u001b[39m \u001b[38;5;250m    \u001b[39m\u001b[33mr\u001b[39m\u001b[33;03m\"\"\"\u001b[39;00m\n\u001b[32m    234\u001b[39m \u001b[33;03m    Compute the idle time, compute time and non-compute time for each rank. Time is measured in\u001b[39;00m\n\u001b[32m    235\u001b[39m \u001b[33;03m    nanoseconds (ns). non-compute time is defined as the total time the GPU is not executing a\u001b[39;00m\n\u001b[32m   (...)\u001b[39m\u001b[32m    246\u001b[39m \u001b[33;03m            time for each rank.\u001b[39;00m\n\u001b[32m    247\u001b[39m \u001b[33;03m    \"\"\"\u001b[39;00m\n\u001b[32m--> \u001b[39m\u001b[32m248\u001b[39m     \u001b[38;5;28;01mreturn\u001b[39;00m \u001b[43mBreakdownAnalysis\u001b[49m\u001b[43m.\u001b[49m\u001b[43mget_temporal_breakdown\u001b[49m\u001b[43m(\u001b[49m\u001b[38;5;28;43mself\u001b[39;49m\u001b[43m.\u001b[49m\u001b[43mt\u001b[49m\u001b[43m,\u001b[49m\u001b[43m \u001b[49m\u001b[43mvisualize\u001b[49m\u001b[43m)\u001b[49m\n",
      "\u001b[36mFile \u001b[39m\u001b[32m~\\anaconda3\\envs\\pytorch\\Lib\\site-packages\\hta\\analyzers\\breakdown_analysis.py:675\u001b[39m, in \u001b[36mBreakdownAnalysis.get_temporal_breakdown\u001b[39m\u001b[34m(cls, t, visualize)\u001b[39m\n\u001b[32m    673\u001b[39m \u001b[38;5;28;01mfor\u001b[39;00m rank, trace_df \u001b[38;5;129;01min\u001b[39;00m t.traces.items():\n\u001b[32m    674\u001b[39m     result[\u001b[33m\"\u001b[39m\u001b[33mrank\u001b[39m\u001b[33m\"\u001b[39m].append(rank)\n\u001b[32m--> \u001b[39m\u001b[32m675\u001b[39m     idle_time, compute_time, non_compute_time, kernel_time = \u001b[43midle_time_per_rank\u001b[49m\u001b[43m(\u001b[49m\n\u001b[32m    676\u001b[39m \u001b[43m        \u001b[49m\u001b[43mtrace_df\u001b[49m\n\u001b[32m    677\u001b[39m \u001b[43m    \u001b[49m\u001b[43m)\u001b[49m\n\u001b[32m    678\u001b[39m     result[\u001b[33m\"\u001b[39m\u001b[33midle_time(us)\u001b[39m\u001b[33m\"\u001b[39m].append(idle_time)\n\u001b[32m    679\u001b[39m     result[\u001b[33m\"\u001b[39m\u001b[33mcompute_time(us)\u001b[39m\u001b[33m\"\u001b[39m].append(compute_time)\n",
      "\u001b[36mFile \u001b[39m\u001b[32m~\\anaconda3\\envs\\pytorch\\Lib\\site-packages\\hta\\analyzers\\breakdown_analysis.py:651\u001b[39m, in \u001b[36mBreakdownAnalysis.get_temporal_breakdown.<locals>.idle_time_per_rank\u001b[39m\u001b[34m(trace_df)\u001b[39m\n\u001b[32m    649\u001b[39m \u001b[38;5;250m\u001b[39m\u001b[33;03m\"\"\"returns idle_time (us) , compute_time (us), non_compute_time (us), total_time (us)\"\"\"\u001b[39;00m\n\u001b[32m    650\u001b[39m gpu_kernels = trace_df[trace_df[\u001b[33m\"\u001b[39m\u001b[33mstream\u001b[39m\u001b[33m\"\u001b[39m].ne(-\u001b[32m1\u001b[39m)].copy()\n\u001b[32m--> \u001b[39m\u001b[32m651\u001b[39m idle_time, kernel_time = \u001b[38;5;28;43mcls\u001b[39;49m\u001b[43m.\u001b[49m\u001b[43m_get_idle_time_for_kernels\u001b[49m\u001b[43m(\u001b[49m\u001b[43mgpu_kernels\u001b[49m\u001b[43m)\u001b[49m\n\u001b[32m    653\u001b[39m gpu_kernels[\u001b[33m\"\u001b[39m\u001b[33mkernel_type\u001b[39m\u001b[33m\"\u001b[39m] = gpu_kernels[[\u001b[33m\"\u001b[39m\u001b[33mname\u001b[39m\u001b[33m\"\u001b[39m]].apply(\n\u001b[32m    654\u001b[39m     \u001b[38;5;28;01mlambda\u001b[39;00m x: get_kernel_type(sym_table[x[\u001b[33m\"\u001b[39m\u001b[33mname\u001b[39m\u001b[33m\"\u001b[39m]]), axis=\u001b[32m1\u001b[39m\n\u001b[32m    655\u001b[39m )\n\u001b[32m    657\u001b[39m \u001b[38;5;66;03m# Isolate computation kernels and merge each one of them.\u001b[39;00m\n",
      "\u001b[36mFile \u001b[39m\u001b[32m~\\anaconda3\\envs\\pytorch\\Lib\\site-packages\\hta\\analyzers\\breakdown_analysis.py:636\u001b[39m, in \u001b[36mBreakdownAnalysis._get_idle_time_for_kernels\u001b[39m\u001b[34m(cls, kernels_df)\u001b[39m\n\u001b[32m    626\u001b[39m \u001b[38;5;250m\u001b[39m\u001b[33;03m\"\"\"\u001b[39;00m\n\u001b[32m    627\u001b[39m \u001b[33;03mCompute idle time for given set of GPU kernels :\u001b[39;00m\n\u001b[32m    628\u001b[39m \u001b[33;03m  returns :\u001b[39;00m\n\u001b[32m   (...)\u001b[39m\u001b[32m    633\u001b[39m \u001b[33;03m    so total time is exclusive of that.\u001b[39;00m\n\u001b[32m    634\u001b[39m \u001b[33;03m\"\"\"\u001b[39;00m\n\u001b[32m    635\u001b[39m merged_kernels = merge_kernel_intervals(kernels_df)\n\u001b[32m--> \u001b[39m\u001b[32m636\u001b[39m kernel_time = \u001b[43mmerged_kernels\u001b[49m\u001b[43m.\u001b[49m\u001b[43miloc\u001b[49m\u001b[43m[\u001b[49m\u001b[43m-\u001b[49m\u001b[32;43m1\u001b[39;49m\u001b[43m]\u001b[49m[\u001b[33m\"\u001b[39m\u001b[33mend\u001b[39m\u001b[33m\"\u001b[39m] - merged_kernels.iloc[\u001b[32m0\u001b[39m][\u001b[33m\"\u001b[39m\u001b[33mts\u001b[39m\u001b[33m\"\u001b[39m]\n\u001b[32m    637\u001b[39m \u001b[38;5;66;03m# differences of end - ts are commutative\u001b[39;00m\n\u001b[32m    638\u001b[39m kernel_run_time = merged_kernels.end.sum() - merged_kernels.ts.sum()\n",
      "\u001b[36mFile \u001b[39m\u001b[32m~\\anaconda3\\envs\\pytorch\\Lib\\site-packages\\pandas\\core\\indexing.py:1191\u001b[39m, in \u001b[36m_LocationIndexer.__getitem__\u001b[39m\u001b[34m(self, key)\u001b[39m\n\u001b[32m   1189\u001b[39m maybe_callable = com.apply_if_callable(key, \u001b[38;5;28mself\u001b[39m.obj)\n\u001b[32m   1190\u001b[39m maybe_callable = \u001b[38;5;28mself\u001b[39m._check_deprecated_callable_usage(key, maybe_callable)\n\u001b[32m-> \u001b[39m\u001b[32m1191\u001b[39m \u001b[38;5;28;01mreturn\u001b[39;00m \u001b[38;5;28;43mself\u001b[39;49m\u001b[43m.\u001b[49m\u001b[43m_getitem_axis\u001b[49m\u001b[43m(\u001b[49m\u001b[43mmaybe_callable\u001b[49m\u001b[43m,\u001b[49m\u001b[43m \u001b[49m\u001b[43maxis\u001b[49m\u001b[43m=\u001b[49m\u001b[43maxis\u001b[49m\u001b[43m)\u001b[49m\n",
      "\u001b[36mFile \u001b[39m\u001b[32m~\\anaconda3\\envs\\pytorch\\Lib\\site-packages\\pandas\\core\\indexing.py:1752\u001b[39m, in \u001b[36m_iLocIndexer._getitem_axis\u001b[39m\u001b[34m(self, key, axis)\u001b[39m\n\u001b[32m   1749\u001b[39m     \u001b[38;5;28;01mraise\u001b[39;00m \u001b[38;5;167;01mTypeError\u001b[39;00m(\u001b[33m\"\u001b[39m\u001b[33mCannot index by location index with a non-integer key\u001b[39m\u001b[33m\"\u001b[39m)\n\u001b[32m   1751\u001b[39m \u001b[38;5;66;03m# validate the location\u001b[39;00m\n\u001b[32m-> \u001b[39m\u001b[32m1752\u001b[39m \u001b[38;5;28;43mself\u001b[39;49m\u001b[43m.\u001b[49m\u001b[43m_validate_integer\u001b[49m\u001b[43m(\u001b[49m\u001b[43mkey\u001b[49m\u001b[43m,\u001b[49m\u001b[43m \u001b[49m\u001b[43maxis\u001b[49m\u001b[43m)\u001b[49m\n\u001b[32m   1754\u001b[39m \u001b[38;5;28;01mreturn\u001b[39;00m \u001b[38;5;28mself\u001b[39m.obj._ixs(key, axis=axis)\n",
      "\u001b[36mFile \u001b[39m\u001b[32m~\\anaconda3\\envs\\pytorch\\Lib\\site-packages\\pandas\\core\\indexing.py:1685\u001b[39m, in \u001b[36m_iLocIndexer._validate_integer\u001b[39m\u001b[34m(self, key, axis)\u001b[39m\n\u001b[32m   1683\u001b[39m len_axis = \u001b[38;5;28mlen\u001b[39m(\u001b[38;5;28mself\u001b[39m.obj._get_axis(axis))\n\u001b[32m   1684\u001b[39m \u001b[38;5;28;01mif\u001b[39;00m key >= len_axis \u001b[38;5;129;01mor\u001b[39;00m key < -len_axis:\n\u001b[32m-> \u001b[39m\u001b[32m1685\u001b[39m     \u001b[38;5;28;01mraise\u001b[39;00m \u001b[38;5;167;01mIndexError\u001b[39;00m(\u001b[33m\"\u001b[39m\u001b[33msingle positional indexer is out-of-bounds\u001b[39m\u001b[33m\"\u001b[39m)\n",
      "\u001b[31mIndexError\u001b[39m: single positional indexer is out-of-bounds"
     ]
    }
   ],
   "source": [
    "from hta.trace_analysis import TraceAnalysis\n",
    "\n",
    "analyzer = TraceAnalysis(trace_dir=\"trace_dir\")\n",
    "analyzer.get_temporal_breakdown(visualize=True)"
   ]
  },
  {
   "cell_type": "code",
   "execution_count": 10,
   "id": "b898bd60-d6da-4ba4-a016-fb66ac36d07d",
   "metadata": {},
   "outputs": [
    {
     "name": "stdout",
     "output_type": "stream",
     "text": [
      "Trace saved to gpt2_trace-checkpoint.json\n"
     ]
    }
   ],
   "source": [
    "import torch\n",
    "from transformers import GPT2Tokenizer, GPT2LMHeadModel\n",
    "from torch.profiler import profile, record_function, ProfilerActivity\n",
    "import time\n",
    "\n",
    "# Confirm CUDA is available\n",
    "assert torch.cuda.is_available(), \"CUDA not available\"\n",
    "\n",
    "# Load model and tokenizer\n",
    "tokenizer = GPT2Tokenizer.from_pretrained(\"gpt2\")\n",
    "model = GPT2LMHeadModel.from_pretrained(\"gpt2\").to(\"cuda\")\n",
    "model.eval()\n",
    "\n",
    "# Prepare a longer input to increase GPU workload\n",
    "prompt = \"The future of AI is\" * 50  # Repeat to make it longer\n",
    "inputs = tokenizer(prompt, return_tensors=\"pt\", truncation=True, max_length=512)\n",
    "inputs_cuda = {k: v.to(\"cuda\") for k, v in inputs.items()}\n",
    "\n",
    "# Warm-up to initialize CUDA kernels\n",
    "with torch.no_grad():\n",
    "    for _ in range(3):\n",
    "        _ = model(**inputs_cuda)\n",
    "\n",
    "# Profile with both CPU and CUDA activities\n",
    "with profile(\n",
    "    activities=[ProfilerActivity.CPU, ProfilerActivity.CUDA],\n",
    "    record_shapes=True,\n",
    "    with_stack=True,\n",
    "    profile_memory=True\n",
    ") as prof:\n",
    "    with record_function(\"gpt2_inference\"):\n",
    "        _ = model(**inputs_cuda)\n",
    "        torch.cuda.synchronize()  # Ensure all CUDA ops are completed\n",
    "        time.sleep(0.1)  # Give profiler time to flush events\n",
    "\n",
    "# Save trace\n",
    "prof.export_chrome_trace(\"gpt2_trace-checkpoint.json\")\n",
    "print(\"Trace saved to gpt2_trace-checkpoint.json\")"
   ]
  },
  {
   "cell_type": "code",
   "execution_count": 9,
   "id": "f7c1a532-4105-4f65-9bde-83589ec541fb",
   "metadata": {},
   "outputs": [
    {
     "name": "stdout",
     "output_type": "stream",
     "text": [
      "2.5.1\n",
      "12.4\n",
      "True\n"
     ]
    }
   ],
   "source": [
    "import torch\n",
    "print(torch.__version__)\n",
    "print(torch.version.cuda)\n",
    "print(torch.cuda.is_available())"
   ]
  },
  {
   "cell_type": "code",
   "execution_count": null,
   "id": "dbd98f2e-b19f-48b5-a965-e6e574158889",
   "metadata": {},
   "outputs": [],
   "source": []
  }
 ],
 "metadata": {
  "kernelspec": {
   "display_name": "Python 3 (ipykernel)",
   "language": "python",
   "name": "python3"
  },
  "language_info": {
   "codemirror_mode": {
    "name": "ipython",
    "version": 3
   },
   "file_extension": ".py",
   "mimetype": "text/x-python",
   "name": "python",
   "nbconvert_exporter": "python",
   "pygments_lexer": "ipython3",
   "version": "3.12.9"
  }
 },
 "nbformat": 4,
 "nbformat_minor": 5
}
