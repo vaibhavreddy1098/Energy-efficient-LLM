{
 "cells": [
  {
   "cell_type": "code",
   "execution_count": 1,
   "id": "c5ffbf93-a9f5-4f7d-99e3-4f9d4a78285c",
   "metadata": {},
   "outputs": [
    {
     "name": "stdout",
     "output_type": "stream",
     "text": [
      "Trace saved to ./gpt2_trace\n"
     ]
    }
   ],
   "source": [
    "import torch\n",
    "from transformers import GPT2Tokenizer, GPT2Model\n",
    "from torch.profiler import profile, record_function, ProfilerActivity\n",
    "\n",
    "# Load model and tokenizer\n",
    "model_name = \"gpt2\"\n",
    "tokenizer = GPT2Tokenizer.from_pretrained(model_name)\n",
    "model = GPT2Model.from_pretrained(model_name)\n",
    "model.eval()\n",
    "\n",
    "# Prepare input\n",
    "inputs = tokenizer(\"The quick brown fox\", return_tensors=\"pt\")\n",
    "\n",
    "# Move model and input to appropriate device\n",
    "device = torch.device(\"cuda\" if torch.cuda.is_available() else \"cpu\")\n",
    "model.to(device)\n",
    "inputs = {k: v.to(device) for k, v in inputs.items()}\n",
    "\n",
    "# Use PyTorch Profiler\n",
    "with profile(\n",
    "    activities=[ProfilerActivity.CPU, ProfilerActivity.CUDA],\n",
    "    on_trace_ready=torch.profiler.tensorboard_trace_handler(\"./gpt2_trace\"),\n",
    "    record_shapes=True,\n",
    "    with_stack=True\n",
    ") as prof:\n",
    "    with record_function(\"gpt2_inference\"):\n",
    "        with torch.no_grad():\n",
    "            outputs = model(**inputs)\n",
    "\n",
    "print(\"Trace saved to ./gpt2_trace\")"
   ]
  },
  {
   "cell_type": "code",
   "execution_count": 1,
   "id": "80d6b1c0-7b53-4521-a7cd-a11976d9c507",
   "metadata": {},
   "outputs": [
    {
     "name": "stderr",
     "output_type": "stream",
     "text": [
      "Parsed C:\\Users\\vaibh\\Downloads\\pytorch_new\\gpt2_trace\\vaibhav_20636.1750937307562819600.pt.trace.json time = 0.04 seconds \n",
      "Rounding down ns resolution events due to issue with events overlapping. ts dtype = float64, dur dtype = float64.Please see https://github.com/pytorch/pytorch/pull/122425\n",
      "Parsed C:\\Users\\vaibh\\Downloads\\pytorch_new\\gpt2_trace\\vaibhav_20636.1750937307562819600.pt.trace.json backend=ParserBackend.JSON in 0.21 seconds; current PID:20180\n",
      "Overall parsing of C:\\Users\\vaibh\\Downloads\\pytorch_new\\gpt2_trace\\vaibhav_20636.1750937307562819600.pt.trace.json in 0.24 seconds; current PID:20180\n",
      "leaving parse_multiple_ranks duration=0.26 seconds\n",
      "leaving parse_traces duration=0.26 seconds\n",
      "ProfilerStep not found in the trace. The analysis result may not be accurate.\n"
     ]
    }
   ],
   "source": [
    "from hta.trace_analysis import TraceAnalysis\n",
    "\n",
    "trace_path = {\n",
    "    0: r\"C:\\Users\\vaibh\\Downloads\\pytorch_new\\gpt2_trace\\vaibhav_20636.1750937307562819600.pt.trace.json\"\n",
    "}\n",
    "\n",
    "ta = TraceAnalysis(trace_files=trace_path)"
   ]
  },
  {
   "cell_type": "code",
   "execution_count": 2,
   "id": "3f8157d5-3bbc-459d-95fd-00bc850d42b3",
   "metadata": {},
   "outputs": [
    {
     "ename": "ImportError",
     "evalue": "cannot import name 'get_gpu_utilization' from 'hta.utils' (C:\\Users\\vaibh\\anaconda3\\envs\\pytorch_new\\Lib\\site-packages\\hta\\utils\\__init__.py)",
     "output_type": "error",
     "traceback": [
      "\u001b[31m---------------------------------------------------------------------------\u001b[39m",
      "\u001b[31mImportError\u001b[39m                               Traceback (most recent call last)",
      "\u001b[36mCell\u001b[39m\u001b[36m \u001b[39m\u001b[32mIn[2]\u001b[39m\u001b[32m, line 1\u001b[39m\n\u001b[32m----> \u001b[39m\u001b[32m1\u001b[39m \u001b[38;5;28;01mfrom\u001b[39;00m\u001b[38;5;250m \u001b[39m\u001b[34;01mhta\u001b[39;00m\u001b[34;01m.\u001b[39;00m\u001b[34;01mutils\u001b[39;00m\u001b[38;5;250m \u001b[39m\u001b[38;5;28;01mimport\u001b[39;00m get_gpu_utilization, get_idle_times, get_overlap_matrix\n\u001b[32m      3\u001b[39m \u001b[38;5;66;03m# GPU utilization per step\u001b[39;00m\n\u001b[32m      4\u001b[39m gpu_util_df = get_gpu_utilization(ta)\n",
      "\u001b[31mImportError\u001b[39m: cannot import name 'get_gpu_utilization' from 'hta.utils' (C:\\Users\\vaibh\\anaconda3\\envs\\pytorch_new\\Lib\\site-packages\\hta\\utils\\__init__.py)"
     ]
    }
   ],
   "source": [
    "from hta.utils import get_gpu_utilization, get_idle_times, get_overlap_matrix\n",
    "\n",
    "# GPU utilization per step\n",
    "gpu_util_df = get_gpu_utilization(ta)\n",
    "print(gpu_util_df)\n",
    "\n",
    "# Periods of GPU idle time\n",
    "idle_df = get_idle_times(ta)\n",
    "print(idle_df)\n",
    "\n",
    "# Kernel overlap between operators\n",
    "overlap_df = get_overlap_matrix(ta)\n",
    "print(overlap_df)"
   ]
  },
  {
   "cell_type": "code",
   "execution_count": 9,
   "id": "7c2036fe-c6c2-4dd9-9df8-ab92356da9cf",
   "metadata": {},
   "outputs": [
    {
     "ename": "ModuleNotFoundError",
     "evalue": "No module named 'hta.plots'",
     "output_type": "error",
     "traceback": [
      "\u001b[31m---------------------------------------------------------------------------\u001b[39m",
      "\u001b[31mModuleNotFoundError\u001b[39m                       Traceback (most recent call last)",
      "\u001b[36mCell\u001b[39m\u001b[36m \u001b[39m\u001b[32mIn[9]\u001b[39m\u001b[32m, line 1\u001b[39m\n\u001b[32m----> \u001b[39m\u001b[32m1\u001b[39m \u001b[38;5;28;01mfrom\u001b[39;00m\u001b[38;5;250m \u001b[39m\u001b[34;01mhta\u001b[39;00m\u001b[34;01m.\u001b[39;00m\u001b[34;01mplots\u001b[39;00m\u001b[34;01m.\u001b[39;00m\u001b[34;01mtrace_vis\u001b[39;00m\u001b[38;5;250m \u001b[39m\u001b[38;5;28;01mimport\u001b[39;00m plot_trace_timeline\n\u001b[32m      3\u001b[39m plot_trace_timeline(ta)  \u001b[38;5;66;03m# Opens an interactive timeline in browser\u001b[39;00m\n",
      "\u001b[31mModuleNotFoundError\u001b[39m: No module named 'hta.plots'"
     ]
    }
   ],
   "source": [
    "from hta.plots.trace_vis import plot_trace_timeline\n",
    "\n",
    "plot_trace_timeline(ta)  # Opens an interactive timeline in browser"
   ]
  },
  {
   "cell_type": "code",
   "execution_count": 10,
   "id": "ab8191f3-9a15-4a00-9a18-c9a9fc2fd483",
   "metadata": {},
   "outputs": [
    {
     "name": "stdout",
     "output_type": "stream",
     "text": [
      "Collecting hta\n",
      "  Downloading hta-0.1.0-py3-none-any.whl.metadata (9.3 kB)\n",
      "Requirement already satisfied: numpy in c:\\users\\vaibh\\anaconda3\\envs\\pytorch_new\\lib\\site-packages (from hta) (2.3.1)\n",
      "Requirement already satisfied: scipy in c:\\users\\vaibh\\anaconda3\\envs\\pytorch_new\\lib\\site-packages (from hta) (1.16.0)\n",
      "Requirement already satisfied: pandas in c:\\users\\vaibh\\anaconda3\\envs\\pytorch_new\\lib\\site-packages (from hta) (2.3.0)\n",
      "Requirement already satisfied: matplotlib in c:\\users\\vaibh\\anaconda3\\envs\\pytorch_new\\lib\\site-packages (from hta) (3.10.3)\n",
      "Requirement already satisfied: contourpy>=1.0.1 in c:\\users\\vaibh\\anaconda3\\envs\\pytorch_new\\lib\\site-packages (from matplotlib->hta) (1.3.2)\n",
      "Requirement already satisfied: cycler>=0.10 in c:\\users\\vaibh\\anaconda3\\envs\\pytorch_new\\lib\\site-packages (from matplotlib->hta) (0.12.1)\n",
      "Requirement already satisfied: fonttools>=4.22.0 in c:\\users\\vaibh\\anaconda3\\envs\\pytorch_new\\lib\\site-packages (from matplotlib->hta) (4.58.4)\n",
      "Requirement already satisfied: kiwisolver>=1.3.1 in c:\\users\\vaibh\\anaconda3\\envs\\pytorch_new\\lib\\site-packages (from matplotlib->hta) (1.4.8)\n",
      "Requirement already satisfied: packaging>=20.0 in c:\\users\\vaibh\\anaconda3\\envs\\pytorch_new\\lib\\site-packages (from matplotlib->hta) (25.0)\n",
      "Requirement already satisfied: pillow>=8 in c:\\users\\vaibh\\anaconda3\\envs\\pytorch_new\\lib\\site-packages (from matplotlib->hta) (11.2.1)\n",
      "Requirement already satisfied: pyparsing>=2.3.1 in c:\\users\\vaibh\\anaconda3\\envs\\pytorch_new\\lib\\site-packages (from matplotlib->hta) (3.2.3)\n",
      "Requirement already satisfied: python-dateutil>=2.7 in c:\\users\\vaibh\\anaconda3\\envs\\pytorch_new\\lib\\site-packages (from matplotlib->hta) (2.9.0.post0)\n",
      "Requirement already satisfied: six>=1.5 in c:\\users\\vaibh\\anaconda3\\envs\\pytorch_new\\lib\\site-packages (from python-dateutil>=2.7->matplotlib->hta) (1.17.0)\n",
      "Requirement already satisfied: pytz>=2020.1 in c:\\users\\vaibh\\anaconda3\\envs\\pytorch_new\\lib\\site-packages (from pandas->hta) (2025.2)\n",
      "Requirement already satisfied: tzdata>=2022.7 in c:\\users\\vaibh\\anaconda3\\envs\\pytorch_new\\lib\\site-packages (from pandas->hta) (2025.2)\n",
      "Downloading hta-0.1.0-py3-none-any.whl (16 kB)\n",
      "Installing collected packages: hta\n",
      "Successfully installed hta-0.1.0\n",
      "Note: you may need to restart the kernel to use updated packages.\n"
     ]
    }
   ],
   "source": [
    "pip install hta"
   ]
  },
  {
   "cell_type": "code",
   "execution_count": 3,
   "id": "6e17607c-ade6-4f72-b455-87ab70bfca7e",
   "metadata": {},
   "outputs": [
    {
     "name": "stdout",
     "output_type": "stream",
     "text": [
      "Help on package hta:\n",
      "\n",
      "NAME\n",
      "    hta\n",
      "\n",
      "PACKAGE CONTENTS\n",
      "    analyzers (package)\n",
      "    common (package)\n",
      "    configs (package)\n",
      "    memory_analysis\n",
      "    stats\n",
      "    trace_analysis\n",
      "    trace_diff\n",
      "    utils (package)\n",
      "    version\n",
      "\n",
      "FILE\n",
      "    c:\\users\\vaibh\\anaconda3\\envs\\pytorch_new\\lib\\site-packages\\hta\\__init__.py\n",
      "\n",
      "\n"
     ]
    }
   ],
   "source": [
    "import hta\n",
    "help(hta)"
   ]
  },
  {
   "cell_type": "code",
   "execution_count": 8,
   "id": "d1a54dd1-102f-4bd0-9afa-9ee07a5bf350",
   "metadata": {},
   "outputs": [
    {
     "name": "stderr",
     "output_type": "stream",
     "text": [
      "Parsed C:\\Users\\vaibh\\Downloads\\pytorch_new\\gpt2_trace\\vaibhav_20636.1750937307562819600.pt.trace.json time = 0.05 seconds \n",
      "Rounding down ns resolution events due to issue with events overlapping. ts dtype = float64, dur dtype = float64.Please see https://github.com/pytorch/pytorch/pull/122425\n",
      "Parsed C:\\Users\\vaibh\\Downloads\\pytorch_new\\gpt2_trace\\vaibhav_20636.1750937307562819600.pt.trace.json backend=ParserBackend.JSON in 0.20 seconds; current PID:20180\n",
      "Overall parsing of C:\\Users\\vaibh\\Downloads\\pytorch_new\\gpt2_trace\\vaibhav_20636.1750937307562819600.pt.trace.json in 0.24 seconds; current PID:20180\n",
      "leaving parse_multiple_ranks duration=0.25 seconds\n",
      "leaving parse_traces duration=0.25 seconds\n",
      "ProfilerStep not found in the trace. The analysis result may not be accurate.\n"
     ]
    },
    {
     "ename": "NameError",
     "evalue": "name 'df' is not defined",
     "output_type": "error",
     "traceback": [
      "\u001b[31m---------------------------------------------------------------------------\u001b[39m",
      "\u001b[31mNameError\u001b[39m                                 Traceback (most recent call last)",
      "\u001b[36mCell\u001b[39m\u001b[36m \u001b[39m\u001b[32mIn[8]\u001b[39m\u001b[32m, line 8\u001b[39m\n\u001b[32m      3\u001b[39m trace_path = {\n\u001b[32m      4\u001b[39m     \u001b[32m0\u001b[39m: \u001b[33mr\u001b[39m\u001b[33m\"\u001b[39m\u001b[33mC:\u001b[39m\u001b[33m\\\u001b[39m\u001b[33mUsers\u001b[39m\u001b[33m\\\u001b[39m\u001b[33mvaibh\u001b[39m\u001b[33m\\\u001b[39m\u001b[33mDownloads\u001b[39m\u001b[33m\\\u001b[39m\u001b[33mpytorch_new\u001b[39m\u001b[33m\\\u001b[39m\u001b[33mgpt2_trace\u001b[39m\u001b[33m\\\u001b[39m\u001b[33mvaibhav_20636.1750937307562819600.pt.trace.json\u001b[39m\u001b[33m\"\u001b[39m\n\u001b[32m      5\u001b[39m }\n\u001b[32m      7\u001b[39m ta = TraceAnalysis(trace_files=trace_path)\n\u001b[32m----> \u001b[39m\u001b[32m8\u001b[39m \u001b[38;5;28mprint\u001b[39m(\u001b[43mdf\u001b[49m[\u001b[33m'\u001b[39m\u001b[33mname\u001b[39m\u001b[33m'\u001b[39m].unique())\n\u001b[32m     10\u001b[39m \u001b[38;5;66;03m# Access the DataFrame\u001b[39;00m\n\u001b[32m     11\u001b[39m df = ta.t.df()\n",
      "\u001b[31mNameError\u001b[39m: name 'df' is not defined"
     ]
    }
   ],
   "source": [
    "from hta.trace_analysis import TraceAnalysis\n",
    "\n",
    "trace_path = {\n",
    "    0: r\"C:\\Users\\vaibh\\Downloads\\pytorch_new\\gpt2_trace\\vaibhav_20636.1750937307562819600.pt.trace.json\"\n",
    "}\n",
    "\n",
    "ta = TraceAnalysis(trace_files=trace_path)\n",
    "print(df['name'].unique())\n",
    "\n",
    "# Access the DataFrame\n",
    "df = ta.t.df()\n",
    "print(df.columns)\n",
    "print(df.head())"
   ]
  },
  {
   "cell_type": "code",
   "execution_count": null,
   "id": "ca446997-825d-4c22-84aa-9ed7eb13a402",
   "metadata": {},
   "outputs": [],
   "source": []
  }
 ],
 "metadata": {
  "kernelspec": {
   "display_name": "Python 3 (ipykernel)",
   "language": "python",
   "name": "python3"
  },
  "language_info": {
   "codemirror_mode": {
    "name": "ipython",
    "version": 3
   },
   "file_extension": ".py",
   "mimetype": "text/x-python",
   "name": "python",
   "nbconvert_exporter": "python",
   "pygments_lexer": "ipython3",
   "version": "3.12.11"
  }
 },
 "nbformat": 4,
 "nbformat_minor": 5
}
