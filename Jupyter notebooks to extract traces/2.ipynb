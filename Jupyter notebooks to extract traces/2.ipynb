{
 "cells": [
  {
   "cell_type": "code",
   "execution_count": 27,
   "id": "325bc8c7-1a23-4740-927f-0556bc6ebaf8",
   "metadata": {},
   "outputs": [
    {
     "name": "stdout",
     "output_type": "stream",
     "text": [
      "---------------------------  ------------  ------------  ------------  ------------  ------------  ------------  ------------  ------------  ------------  ------------  ------------  ------------  ------------  ------------  \n",
      "                       Name    Self CPU %      Self CPU   CPU total %     CPU total  CPU time avg     Self CUDA   Self CUDA %    CUDA total  CUDA time avg       CPU Mem  Self CPU Mem      CUDA Mem  Self CUDA Mem    # of Calls  \n",
      "---------------------------  ------------  ------------  ------------  ------------  ------------  ------------  ------------  ------------  ------------  ------------  ------------  ------------  ------------  ------------  \n",
      "      Matrix Multiplication         0.08%     405.600us        67.85%     328.666ms     328.666ms     352.000us         0.08%     328.690ms     328.690ms         -16 b         -16 b       8.13 Mb           0 b             1  \n",
      "               aten::matmul         0.02%      89.900us        67.76%     328.260ms     328.260ms     137.000us         0.03%     328.338ms     328.338ms           0 b           0 b       8.13 Mb           0 b             1  \n",
      "                   aten::mm        67.75%     328.171ms        67.75%     328.171ms     328.171ms     328.201ms        76.47%     328.201ms     328.201ms           0 b           0 b       8.13 Mb       8.13 Mb             1  \n",
      "            Tensor Creation        11.90%      57.669ms        23.77%     115.148ms     115.148ms       2.040ms         0.48%      59.848ms      59.848ms        -192 b        -288 b       3.00 Kb           0 b             1  \n",
      "    Element-wise Operations         0.08%     364.000us         8.34%      40.403ms      40.403ms      85.000us         0.02%      40.444ms      40.444ms         -48 b         -48 b         512 b           0 b             1  \n",
      "                  aten::mul         8.27%      40.039ms         8.27%      40.039ms      40.039ms      40.359ms         9.40%      40.359ms      40.359ms           0 b           0 b         512 b         512 b             1  \n",
      "                aten::randn         0.13%     617.900us         5.36%      25.959ms      12.979ms     420.000us         0.10%      26.036ms      13.018ms           0 b           0 b       1.00 Kb           0 b             2  \n",
      "              aten::normal_         5.09%      24.671ms         5.09%      24.671ms      12.335ms      24.739ms         5.76%      24.739ms      12.370ms           0 b           0 b           0 b           0 b             2  \n",
      "                   aten::to         0.15%     732.800us         3.53%      17.117ms       5.706ms     720.000us         0.17%      17.146ms       5.715ms           0 b           0 b       1.50 Kb           0 b             3  \n",
      "             aten::_to_copy         0.10%     493.900us         3.38%      16.384ms       5.461ms     248.000us         0.06%      16.426ms       5.475ms           0 b           0 b       1.50 Kb           0 b             3  \n",
      "---------------------------  ------------  ------------  ------------  ------------  ------------  ------------  ------------  ------------  ------------  ------------  ------------  ------------  ------------  ------------  \n",
      "Self CPU time total: 484.413ms\n",
      "Self CUDA time total: 429.201ms\n",
      "\n"
     ]
    }
   ],
   "source": [
    "import torch\n",
    "from torch.profiler import profile, record_function, ProfilerActivity\n",
    "\n",
    "# Check CUDA availability\n",
    "assert torch.cuda.is_available(), \"CUDA device not found!\"\n",
    "\n",
    "# Create basic tensors with profiling\n",
    "with profile(\n",
    "    activities=[ProfilerActivity.CPU, ProfilerActivity.CUDA],\n",
    "    record_shapes=True,\n",
    "    profile_memory=True,\n",
    "    with_stack=True\n",
    ") as prof:\n",
    "    with record_function(\"Tensor Creation\"):\n",
    "        # Explicitly create tensors on GPU\n",
    "        a = torch.tensor([2, 4, 5], device='cuda')\n",
    "        e = torch.tensor([[1, 2, 3], [4, 5, 6]], device='cuda')\n",
    "        f = torch.tensor([7, 8, 9], device='cuda')\n",
    "        g = torch.randn(2, 3, device='cuda')\n",
    "        h = torch.randn(3, 2, device='cuda')\n",
    "        x = torch.rand(3, 4, device='cuda')\n",
    "    \n",
    "    with record_function(\"Element-wise Operations\"):\n",
    "        result = e * f  # Now on GPU\n",
    "    \n",
    "    with record_function(\"Matrix Multiplication\"):\n",
    "        product = g @ h  # GPU matrix multiplication\n",
    "    \n",
    "    with record_function(\"Property Checks\"):\n",
    "        shape = x.shape\n",
    "        dtype = x.dtype\n",
    "        device = x.device\n",
    "\n",
    "# Print profiling results\n",
    "print(prof.key_averages().table(\n",
    "    sort_by=\"cuda_time_total\",\n",
    "    row_limit=10\n",
    "))\n",
    "\n",
    "# Export trace\n",
    "prof.export_chrome_trace(\"gpu_tensor_ops_trace.json\")\n"
   ]
  },
  {
   "cell_type": "code",
   "execution_count": null,
   "id": "a2a32076-ad1f-4ae3-b9ba-1cf288d666a5",
   "metadata": {},
   "outputs": [],
   "source": []
  }
 ],
 "metadata": {
  "kernelspec": {
   "display_name": "Python 3 (ipykernel)",
   "language": "python",
   "name": "python3"
  },
  "language_info": {
   "codemirror_mode": {
    "name": "ipython",
    "version": 3
   },
   "file_extension": ".py",
   "mimetype": "text/x-python",
   "name": "python",
   "nbconvert_exporter": "python",
   "pygments_lexer": "ipython3",
   "version": "3.12.9"
  }
 },
 "nbformat": 4,
 "nbformat_minor": 5
}
